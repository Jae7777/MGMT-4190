{
 "cells": [
  {
   "cell_type": "markdown",
   "id": "4d69c8c0",
   "metadata": {
    "deletable": false,
    "editable": false,
    "nbgrader": {
     "cell_type": "markdown",
     "checksum": "30b55100833f90e471d47b13f76fe21d",
     "grade": false,
     "grade_id": "Instructions",
     "locked": true,
     "schema_version": 3,
     "solution": false,
     "task": false
    }
   },
   "source": [
    "## Assignment-2\n",
    "##### Total number of points: 60\n",
    "#### Due date: 9/23/2023 11:59 PM\n",
    "\n",
    "Before you submit this homework, make sure everything runs as expected. First, restart the kernel (in the menu, select Kernel → Restart) and then run all cells (in the menubar, select Cell → Run All). You can discuss with others regarding the homework but all work must be your own.\n",
    "\n",
    "Steps to evaluate your solutions:\n",
    "\n",
    "Step-1: Try on Colab or Anaconda (Windows: https://docs.anaconda.com/anaconda/install/windows/ ; Mac:https://docs.anaconda.com/anaconda/install/mac-os/ ; Linux: https://docs.anaconda.com/anaconda/install/linux/)\n",
    "\n",
    "Step-2: Open the Jupyter Notebook by first launching the anaconda software console\n",
    "\n",
    "Step-3: Open the homework's .ipynb file and write your solutions at the appropriate location \"# YOUR CODE HERE\"\n",
    "\n",
    "Step-4: You can restart the kernel and click run all (in the menubar, select Cell → Run All) on the center-right on the top of this window.\n",
    "\n",
    "Step-5: Now go to \"File\" then click on \"Download as\" then click on \"Notebook (.ipynb)\" Please DO NOT change the file name and just keep it as \".ipynb\"\n",
    "\n",
    "Step-6: Go to lms.rpi.edu and upload your homework at the appropriate link to submit this homework.\n",
    "\n",
    "\n",
    "#### Please note that for any question in this assignment you will receive points ONLY if your solution passes all the test cases including hidden testcases as well. So please make sure you try to think all possible scenarios before submitting your answers.  \n",
    "- Note that hidden tests are present to ensure you are not hardcoding. \n",
    "- If caught cheating: \n",
    "    - you will receive a score of 0 for the 1st violation. \n",
    "    - for repeated incidents, you will receive an automatic 'F' grade and will be reported to the dean of Lally School of Management.  "
   ]
  },
  {
   "cell_type": "markdown",
   "id": "b7ae4527",
   "metadata": {
    "deletable": false,
    "editable": false,
    "nbgrader": {
     "cell_type": "markdown",
     "checksum": "cf2180c5c19c6a6994b51df4e47d3ec9",
     "grade": false,
     "grade_id": "q1",
     "locked": true,
     "schema_version": 3,
     "solution": false,
     "task": false
    }
   },
   "source": [
    "#### Q1 [5 points]. import the `numpy` package as `np`. Similarly, import the `pandas` package as `pd` "
   ]
  },
  {
   "cell_type": "code",
   "execution_count": 2,
   "id": "8b69b6e8",
   "metadata": {
    "deletable": false,
    "nbgrader": {
     "cell_type": "code",
     "checksum": "a05e11ae3d158cee77c46726613460fe",
     "grade": false,
     "grade_id": "q1-sol",
     "locked": false,
     "schema_version": 3,
     "solution": true,
     "task": false
    }
   },
   "outputs": [],
   "source": [
    "\n",
    "'''Note that ONLY if you get this solution right all the below questions will be executed'''\n",
    "\n",
    "# YOUR CODE HERE\n",
    "import numpy as np\n",
    "import pandas as pd\n"
   ]
  },
  {
   "cell_type": "code",
   "execution_count": 3,
   "id": "f3a6bbbd",
   "metadata": {
    "deletable": false,
    "editable": false,
    "nbgrader": {
     "cell_type": "code",
     "checksum": "9f1870587f30a6b8bdf57bce7e7d2d7d",
     "grade": true,
     "grade_id": "1",
     "locked": true,
     "points": 5,
     "schema_version": 3,
     "solution": false,
     "task": false
    }
   },
   "outputs": [],
   "source": [
    "#Test cell-1 [5 pts]\n",
    "#DO NOT MODIFY/DELETE THIS CELL\n",
    "assert np.prod([1,2,3])==6\n",
    "assert len(pd.read_csv('https://raw.githubusercontent.com/lmanikon/lmanikon.github.io/master/teaching/datasets/nba.csv').head(10)) == 10\n"
   ]
  },
  {
   "cell_type": "markdown",
   "id": "8d3db415",
   "metadata": {
    "deletable": false,
    "editable": false,
    "nbgrader": {
     "cell_type": "markdown",
     "checksum": "b88f88658d09f2c5bd8e2c79f41b2d43",
     "grade": false,
     "grade_id": "q2",
     "locked": true,
     "schema_version": 3,
     "solution": false,
     "task": false
    }
   },
   "source": [
    "#### Q2 [5 points]. Create a numpy array called `arr2` of ones of size 3X4 meaning 3 rows and 4 columns, \n",
    "#### where the element in 2nd row and 3rd column is 2. Please note that we are referring to the position here not the index.\n"
   ]
  },
  {
   "cell_type": "code",
   "execution_count": 4,
   "id": "5c2dfd0b",
   "metadata": {
    "deletable": false,
    "nbgrader": {
     "cell_type": "code",
     "checksum": "d5e531a8b4bc12d7155fc607f298f133",
     "grade": false,
     "grade_id": "q2-sol",
     "locked": false,
     "schema_version": 3,
     "solution": true,
     "task": false
    }
   },
   "outputs": [
    {
     "data": {
      "text/plain": [
       "array([[1., 1., 1., 1.],\n",
       "       [1., 1., 2., 1.],\n",
       "       [1., 1., 1., 1.]])"
      ]
     },
     "execution_count": 4,
     "metadata": {},
     "output_type": "execute_result"
    }
   ],
   "source": [
    "\n",
    "#Create arr2 with 3 rows and 4 columns\n",
    "\n",
    "# YOUR CODE HERE\n",
    "arr2 = np.ones((3, 4))\n",
    "arr2[1, 2] = 2\n",
    "arr2"
   ]
  },
  {
   "cell_type": "code",
   "execution_count": 5,
   "id": "700901dd",
   "metadata": {
    "deletable": false,
    "editable": false,
    "nbgrader": {
     "cell_type": "code",
     "checksum": "70dd87e7c9a74a34594295323b747ccb",
     "grade": true,
     "grade_id": "2",
     "locked": true,
     "points": 3,
     "schema_version": 3,
     "solution": false,
     "task": false
    }
   },
   "outputs": [],
   "source": [
    "#Test cell-2 [3 pts]\n",
    "#DO NOT MODIFY/DELETE THIS CELL \n",
    "\n",
    "assert isinstance(arr2, np.ndarray)\n",
    "assert arr2[:1].all() == 1\n",
    "assert sum(arr2[1]) == 5\n"
   ]
  },
  {
   "cell_type": "code",
   "execution_count": 6,
   "id": "a4d822e9",
   "metadata": {
    "deletable": false,
    "editable": false,
    "nbgrader": {
     "cell_type": "code",
     "checksum": "e532be07834773eaaa1924f74c9e1738",
     "grade": true,
     "grade_id": "3",
     "locked": true,
     "points": 2,
     "schema_version": 3,
     "solution": false,
     "task": false
    }
   },
   "outputs": [],
   "source": [
    "#Test cell-3 [2 pts]\n",
    "#DO NOT MODIFY/DELETE THIS CELL \n"
   ]
  },
  {
   "cell_type": "markdown",
   "id": "097bb745",
   "metadata": {
    "deletable": false,
    "editable": false,
    "nbgrader": {
     "cell_type": "markdown",
     "checksum": "d9db5890508057715e18ccabb0a07793",
     "grade": false,
     "grade_id": "q3",
     "locked": true,
     "schema_version": 3,
     "solution": false,
     "task": false
    }
   },
   "source": [
    "#### Q3 [5 points]. Create a numpy array `arr3` with elements 2,4,6,8,10 (in the same order)\n",
    "#### Now create a new array `arr31` whose elements are thrice the value of each element in `arr3` at the same index respectively. \n"
   ]
  },
  {
   "cell_type": "code",
   "execution_count": 7,
   "id": "7744a7f5",
   "metadata": {
    "deletable": false,
    "nbgrader": {
     "cell_type": "code",
     "checksum": "b855a7b1d4d58e7f50a67574202079e2",
     "grade": false,
     "grade_id": "q3-sol",
     "locked": false,
     "schema_version": 3,
     "solution": true,
     "task": false
    }
   },
   "outputs": [
    {
     "name": "stdout",
     "output_type": "stream",
     "text": [
      "[ 2  4  6  8 10] [ 6 12 18 24 30]\n"
     ]
    }
   ],
   "source": [
    "#Build arr3\n",
    "\n",
    "# YOUR CODE HERE\n",
    "\n",
    "arr3 = np.array([2, 4, 6, 8, 10])\n",
    "arr31 = np.array([x * 3 for x in arr3])\n",
    "print(arr3, arr31)"
   ]
  },
  {
   "cell_type": "code",
   "execution_count": 8,
   "id": "f5d78482",
   "metadata": {
    "deletable": false,
    "editable": false,
    "nbgrader": {
     "cell_type": "code",
     "checksum": "07a6272512690c9942262c2ffa553a4d",
     "grade": true,
     "grade_id": "4",
     "locked": true,
     "points": 4,
     "schema_version": 3,
     "solution": false,
     "task": false
    }
   },
   "outputs": [],
   "source": [
    "#Test cell-4 [4 pts]\n",
    "#DO NOT MODIFY/DELETE THIS CELL \n",
    "\n",
    "assert isinstance(arr3, np.ndarray)\n",
    "assert arr3[2] == 6\n",
    "assert arr31[2] == 18\n",
    "assert arr31[1] == 12\n"
   ]
  },
  {
   "cell_type": "code",
   "execution_count": 9,
   "id": "7975132b",
   "metadata": {
    "deletable": false,
    "editable": false,
    "nbgrader": {
     "cell_type": "code",
     "checksum": "13c383d0b74e6ab4342e344b040401b6",
     "grade": true,
     "grade_id": "5",
     "locked": true,
     "points": 1,
     "schema_version": 3,
     "solution": false,
     "task": false
    }
   },
   "outputs": [],
   "source": [
    "#Test cell-5 [1 pts]\n",
    "#DO NOT MODIFY/DELETE THIS CELL \n"
   ]
  },
  {
   "cell_type": "markdown",
   "id": "d108017a",
   "metadata": {
    "deletable": false,
    "editable": false,
    "nbgrader": {
     "cell_type": "markdown",
     "checksum": "7f15f7bba2b90bc42b74094a7050e6fa",
     "grade": false,
     "grade_id": "q4",
     "locked": true,
     "schema_version": 3,
     "solution": false,
     "task": false
    }
   },
   "source": [
    "#### Q4 [10 points]. Return the sum of mean and median values of elements present in a numpy array. \n",
    "- Given the array, first arrange them in ascending order\n",
    "- If the number of elements are odd, median is the middle term \n",
    "- If the number of elements are even, median is the average value of the terms in the middle"
   ]
  },
  {
   "cell_type": "code",
   "execution_count": 10,
   "id": "c9ca442c",
   "metadata": {
    "deletable": false,
    "nbgrader": {
     "cell_type": "code",
     "checksum": "7a63a61dc87f4d0dbedf07956dd88b0e",
     "grade": false,
     "grade_id": "q4-sol",
     "locked": false,
     "schema_version": 3,
     "solution": true,
     "task": false
    }
   },
   "outputs": [],
   "source": [
    "\n",
    "def SumMeanMedian(arr4):\n",
    "    \"\"\"Returns the sum of mean and median values of elements present in the array\n",
    "    \"\"\"\n",
    "    # YOUR CODE HERE\n",
    "    arr4.sort()\n",
    "    return np.mean(arr4) + np.median(arr4)\n",
    "\n",
    "# a = np.array([9, 2, 3, 6, 1])\n",
    "# SumMeanMedian(a)\n",
    "# print(a)\n"
   ]
  },
  {
   "cell_type": "code",
   "execution_count": 11,
   "id": "8b0ea9c1",
   "metadata": {
    "deletable": false,
    "editable": false,
    "nbgrader": {
     "cell_type": "code",
     "checksum": "46e5202631fcda04c7e7a860d104f5f2",
     "grade": true,
     "grade_id": "6",
     "locked": true,
     "points": 6,
     "schema_version": 3,
     "solution": false,
     "task": false
    }
   },
   "outputs": [],
   "source": [
    "#Test cell-6 [6 pts]\n",
    "#DO NOT MODIFY/DELETE THIS CELL \n",
    "\n",
    "arr3=np.array([1,0,1,0,2,1])\n",
    "assert round(SumMeanMedian(arr3),2)==1.83\n",
    "\n",
    "arr3=np.array([0])\n",
    "assert round(SumMeanMedian(arr3),2)==0.0\n",
    "\n",
    "arr3=np.array([20, 2, 7, 1, 0])\n",
    "assert round(SumMeanMedian(arr3),2)==8.0\n"
   ]
  },
  {
   "cell_type": "code",
   "execution_count": 12,
   "id": "80a49dca",
   "metadata": {
    "deletable": false,
    "editable": false,
    "nbgrader": {
     "cell_type": "code",
     "checksum": "bdfa3f369b62d8e69f6ecc4c511c2e6d",
     "grade": true,
     "grade_id": "7",
     "locked": true,
     "points": 4,
     "schema_version": 3,
     "solution": false,
     "task": false
    }
   },
   "outputs": [],
   "source": [
    "#Test cell-7 [4 pts]\n",
    "#DO NOT MODIFY/DELETE THIS CELL \n"
   ]
  },
  {
   "cell_type": "markdown",
   "id": "edbd4359",
   "metadata": {
    "deletable": false,
    "editable": false,
    "nbgrader": {
     "cell_type": "markdown",
     "checksum": "4297aaf200e00d0ab148a4732a6ef480",
     "grade": false,
     "grade_id": "q5",
     "locked": true,
     "schema_version": 3,
     "solution": false,
     "task": false
    }
   },
   "source": [
    "#### Q5 [5 points]. Please follow the instructions very carefully \n",
    "- Create a list `l5` and assign values 1, 2, 3, 4, 5, 6 to this list in the same order as listed here.\n",
    "- Use `l5` to create a series `S5` with a default index\n",
    "- Use `l5` to create a dataframe `df5` with a default index but column name should be `fifth`"
   ]
  },
  {
   "cell_type": "code",
   "execution_count": 13,
   "id": "5752ac90",
   "metadata": {
    "deletable": false,
    "nbgrader": {
     "cell_type": "code",
     "checksum": "2401172bd0352422397ab43623541156",
     "grade": false,
     "grade_id": "q5-sol",
     "locked": false,
     "schema_version": 3,
     "solution": true,
     "task": false
    }
   },
   "outputs": [],
   "source": [
    "\n",
    "# YOUR CODE HERE\n",
    "l5 = [1, 2, 3, 4, 5, 6]\n",
    "S5 = pd.Series(l5)\n",
    "df5 = pd.DataFrame({'fifth': S5})\n",
    "# print(S5)\n",
    "# df5"
   ]
  },
  {
   "cell_type": "code",
   "execution_count": 14,
   "id": "95d7ddde",
   "metadata": {
    "deletable": false,
    "editable": false,
    "nbgrader": {
     "cell_type": "code",
     "checksum": "ba63057b90ccbe3cdb28310cc2f00e15",
     "grade": true,
     "grade_id": "8",
     "locked": true,
     "points": 3,
     "schema_version": 3,
     "solution": false,
     "task": false
    }
   },
   "outputs": [],
   "source": [
    "#Test cell-8 [3 pts]\n",
    "#DO NOT MODIFY/DELETE THIS CELL \n",
    "\n",
    "assert len(l5)==6\n",
    "assert max(l5)==6\n",
    "assert S5[3]==4\n",
    "assert len(df5.columns)==1\n"
   ]
  },
  {
   "cell_type": "code",
   "execution_count": 15,
   "id": "e5ab2b90",
   "metadata": {
    "deletable": false,
    "editable": false,
    "nbgrader": {
     "cell_type": "code",
     "checksum": "9a2ff18ed05967341a968ff4626ae661",
     "grade": true,
     "grade_id": "9",
     "locked": true,
     "points": 2,
     "schema_version": 3,
     "solution": false,
     "task": false
    }
   },
   "outputs": [],
   "source": [
    "#Test cell-9 [2 pts]\n",
    "#DO NOT MODIFY/DELETE THIS CELL \n"
   ]
  },
  {
   "cell_type": "markdown",
   "id": "bf50dbd0",
   "metadata": {
    "deletable": false,
    "editable": false,
    "nbgrader": {
     "cell_type": "markdown",
     "checksum": "686a1e9709e6077ed55d09b4e143ae88",
     "grade": false,
     "grade_id": "q6",
     "locked": true,
     "schema_version": 3,
     "solution": false,
     "task": false
    }
   },
   "source": [
    "#### Q6 [10 points]. Read the .csv file from this url and first load it into dataframe 'df'. Then, perform the following operations in the same exact order:\n",
    "- Using pandas dataframe operations, output the total number of missing values in this entire dataset and save that value in the integer variable `var61`.\n",
    "- Using pandas dataframe operations, output the total number of rows that have missing `Age` values. Save this value into the integer variable `var62`. \n",
    "- Replace the missing values in column `Income` with the mean value of all the values already present. \n",
    "    - Save the mean value before filling the missing values as the variable `mean61` and the mean value of all values after replacing the missing values as the variable `mean62`. \n",
    "    - When you save the values as the variables `mean61` and `mean62` please save them rounded to two decimal places. \n",
    "    - Note that when you are replacing the missing values, *do not use the rounded values*.\n"
   ]
  },
  {
   "cell_type": "code",
   "execution_count": 16,
   "id": "47456b1c",
   "metadata": {
    "deletable": false,
    "nbgrader": {
     "cell_type": "code",
     "checksum": "6cf85551d718fd0ca191b29cc0cb05a1",
     "grade": false,
     "grade_id": "q6-sol",
     "locked": false,
     "schema_version": 3,
     "solution": true,
     "task": false
    }
   },
   "outputs": [],
   "source": [
    "\n",
    "url='https://raw.githubusercontent.com/lmanikon/lmanikon.github.io/master/teaching/datasets/bike_buyers.csv'\n",
    "\n",
    "# YOUR CODE HERE\n",
    "df = pd.read_csv(url)\n",
    "var61 = df.isnull().values.sum()\n",
    "var62 = df['Age'].isnull().sum()\n",
    "mean61 = df['Income'].mean()\n",
    "df['Income'] = df['Income'].fillna(mean61)\n",
    "mean62 = df['Income'].mean()\n",
    "\n",
    "# print(mean61, mean62)\n",
    "mean61, mean62 = float(\"{0:.2f}\".format(mean61)), float(\"{0:.2f}\".format(mean62))\n",
    "# print(mean61, mean62)"
   ]
  },
  {
   "cell_type": "code",
   "execution_count": 17,
   "id": "46bfa5de",
   "metadata": {
    "deletable": false,
    "editable": false,
    "nbgrader": {
     "cell_type": "code",
     "checksum": "63cb1e221c09e6d891cdf35958ca8c01",
     "grade": true,
     "grade_id": "10",
     "locked": true,
     "points": 6,
     "schema_version": 3,
     "solution": false,
     "task": false
    }
   },
   "outputs": [],
   "source": [
    "#Test cell-10 [6 pts]\n",
    "#DO NOT MODIFY/DELETE THIS CELL \n",
    "\n",
    "assert df['Age'].sum()==43828.0\n",
    "assert round(df['Income'].sum(),2)==56267605.63\n",
    "assert var62==8\n"
   ]
  },
  {
   "cell_type": "code",
   "execution_count": 18,
   "id": "4c36f56f",
   "metadata": {
    "deletable": false,
    "editable": false,
    "nbgrader": {
     "cell_type": "code",
     "checksum": "eb21bb7914ce119df76dbc31e9a2c2bc",
     "grade": true,
     "grade_id": "11",
     "locked": true,
     "points": 4,
     "schema_version": 3,
     "solution": false,
     "task": false
    }
   },
   "outputs": [],
   "source": [
    "#Test cell-11 [4 pts]\n",
    "#DO NOT MODIFY/DELETE THIS CELL "
   ]
  },
  {
   "cell_type": "markdown",
   "id": "e73ec108",
   "metadata": {
    "deletable": false,
    "editable": false,
    "nbgrader": {
     "cell_type": "markdown",
     "checksum": "cf81e055d38741abda55b987d5dc9e9c",
     "grade": false,
     "grade_id": "q7",
     "locked": true,
     "schema_version": 3,
     "solution": false,
     "task": false
    }
   },
   "source": [
    "#### Q7 [10 points]. Lets think about how copying works in the context of dataframes. Lets first load the bikes data as shown in the url here below to a dataframe `df`. \n",
    "\n",
    "#### First create a list `l7` using the first 10 values of the column `Region`. Then create a dataframe `df_new` by creating two other lists (`l71` and `l72`) by manipulating `l7` as follows\n",
    "-  l71 -- copy l7 into l71 and add the last element of l7 to the beginning of l71\n",
    "- l72 -- copy l71 into l72 and add the first element of l71 to the end of l72\n",
    "- Now use `l7`, `l71` and `l72` to create a data frame `df_new` with corresponding column names as `Region1`, `Region2` and `Region3`\n"
   ]
  },
  {
   "cell_type": "code",
   "execution_count": 19,
   "id": "60b69d48",
   "metadata": {
    "deletable": false,
    "nbgrader": {
     "cell_type": "code",
     "checksum": "f49381f4e7fd78a28dcae0d42294f1fb",
     "grade": false,
     "grade_id": "q7-sol",
     "locked": false,
     "schema_version": 3,
     "solution": true,
     "task": false
    }
   },
   "outputs": [],
   "source": [
    "\"\"\"Creates the dataframe df_new that is built using an original list l7\n",
    "\"\"\"\n",
    "\n",
    "\n",
    "url='https://raw.githubusercontent.com/lmanikon/lmanikon.github.io/master/teaching/datasets/bike_buyers.csv'\n",
    "\n",
    "# YOUR CODE HERE\n",
    "df = pd.read_csv(url)\n",
    "l7 = df['Region'][:10].tolist()\n",
    "l71 = [l7[-1]] + l7.copy()\n",
    "l72 = l71.copy() + [l7[0]]\n",
    "df_new = pd.DataFrame({'Region1': pd.Series(l7), 'Region2': pd.Series(l71), 'Region3': pd.Series(l72)})\n",
    "# print(df_new)\n"
   ]
  },
  {
   "cell_type": "code",
   "execution_count": 20,
   "id": "370d5496",
   "metadata": {
    "deletable": false,
    "editable": false,
    "nbgrader": {
     "cell_type": "code",
     "checksum": "2cc8ff77f6fc1794d457552ada633ef1",
     "grade": true,
     "grade_id": "12",
     "locked": true,
     "points": 5,
     "schema_version": 3,
     "solution": false,
     "task": false
    }
   },
   "outputs": [],
   "source": [
    "#Test cell-12 [5 pts]\n",
    "#DO NOT MODIFY/DELETE THIS CELL \n",
    "assert isinstance(l7, list) is True\n",
    "assert len(l71)==11\n",
    "assert len(l72)==12"
   ]
  },
  {
   "cell_type": "code",
   "execution_count": 21,
   "id": "daeba0ac",
   "metadata": {
    "deletable": false,
    "editable": false,
    "nbgrader": {
     "cell_type": "code",
     "checksum": "1a6243185b69b806d101dda0b97cad4b",
     "grade": true,
     "grade_id": "13",
     "locked": true,
     "points": 5,
     "schema_version": 3,
     "solution": false,
     "task": false
    }
   },
   "outputs": [],
   "source": [
    "#Test cell-13 [5 pts]\n",
    "#DO NOT MODIFY/DELETE THIS CELL \n"
   ]
  },
  {
   "cell_type": "markdown",
   "id": "2ebc61de-9eb9-46a0-b3eb-d18f3cf2ac2b",
   "metadata": {
    "deletable": false,
    "editable": false,
    "nbgrader": {
     "cell_type": "markdown",
     "checksum": "6ffc0e5114cd2439e1e04feda2d999db",
     "grade": false,
     "grade_id": "q8",
     "locked": true,
     "schema_version": 3,
     "solution": false,
     "task": false
    }
   },
   "source": [
    "#### Q8 [10 points]. Dropping the rows that satisfy certain conditions. Lets first load the bikes data as shown in the url here below to a dataframe `df`. \n",
    "\n",
    "#### Please perform the following tasks in the same order as listed here below: \n",
    "\n",
    "- Create a dataframe `df` by loading the dataset using the url provided.\n",
    "- Remove all the rows in `df` with atleast one missing value. This should be reflected in the dataframe `df` -- so when you measure the length of `df` it should be different prior to performing this task.\n",
    "- Drop the column `cc`\n",
    "- Drop all the rows in `df` whose `Commute Distance` is `10+ Miles` and assign this modified dataframe to a new dataframe `ndf`. This change should not be reflected in the dataframe `df`. \n",
    "\n"
   ]
  },
  {
   "cell_type": "code",
   "execution_count": 58,
   "id": "8bfcdce1-3f35-4382-ab4f-135cdb25cd9d",
   "metadata": {
    "deletable": false,
    "nbgrader": {
     "cell_type": "code",
     "checksum": "22dd90d89e7e4a2bda50eefe3df73164",
     "grade": false,
     "grade_id": "q8-sol",
     "locked": false,
     "schema_version": 3,
     "solution": true,
     "task": false
    }
   },
   "outputs": [],
   "source": [
    "\"\"\"Create a dataframe df \"\"\"\n",
    "\n",
    "url='https://raw.githubusercontent.com/lmanikon/lmanikon.github.io/master/teaching/datasets/bike_buyers.csv'\n",
    "\n",
    "# YOUR CODE HERE\n",
    "df = pd.read_csv(url)\n",
    "\n",
    "df = df.dropna(axis=0, how='any')\n",
    "\n",
    "df = df.drop(\"cc\", axis=1)\n",
    "\n",
    "ndf = df[df['Commute Distance'] != \"10+ Miles\"]\n"
   ]
  },
  {
   "cell_type": "code",
   "execution_count": 59,
   "id": "7696fdc9-d98a-4297-b25c-99e67e9cd9e7",
   "metadata": {
    "deletable": false,
    "editable": false,
    "nbgrader": {
     "cell_type": "code",
     "checksum": "f86aab198f57d8e59833c2d0ff072b9b",
     "grade": true,
     "grade_id": "14",
     "locked": true,
     "points": 6,
     "schema_version": 3,
     "solution": false,
     "task": false
    }
   },
   "outputs": [],
   "source": [
    "#Test cell-14 [6 pts]\n",
    "#DO NOT MODIFY/DELETE THIS CELL \n",
    "assert len(df.columns)==12\n",
    "assert len(ndf)==844\n",
    "assert len(df)==952"
   ]
  },
  {
   "cell_type": "code",
   "execution_count": null,
   "id": "2143f705-a46f-4708-9077-f17ad181b5ae",
   "metadata": {
    "deletable": false,
    "editable": false,
    "nbgrader": {
     "cell_type": "code",
     "checksum": "eb158b91ab2c533d19310396d98537da",
     "grade": true,
     "grade_id": "15",
     "locked": true,
     "points": 4,
     "schema_version": 3,
     "solution": false,
     "task": false
    }
   },
   "outputs": [],
   "source": [
    "#Test cell-15 [4 pts]\n",
    "#DO NOT MODIFY/DELETE THIS CELL \n"
   ]
  }
 ],
 "metadata": {
  "kernelspec": {
   "display_name": "Python 3 (ipykernel)",
   "language": "python",
   "name": "python3"
  },
  "language_info": {
   "codemirror_mode": {
    "name": "ipython",
    "version": 3
   },
   "file_extension": ".py",
   "mimetype": "text/x-python",
   "name": "python",
   "nbconvert_exporter": "python",
   "pygments_lexer": "ipython3",
   "version": "3.12.4"
  }
 },
 "nbformat": 4,
 "nbformat_minor": 5
}
