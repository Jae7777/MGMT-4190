{
 "cells": [
  {
   "cell_type": "markdown",
   "metadata": {},
   "source": [
    "Compute precision, recall, and f-measure\n",
    "\n",
    "|                    | Actual Class|     |\n",
    "|--------------------|---------|--------|\n",
    "| Predicted Class    | True    | False  |\n",
    "| True               | 8       | 4      |\n",
    "| False              | 2       | 6      |\n",
    "\n",
    "tp = 8\n",
    "fp = 4\n",
    "fn = 2\n",
    "tn = 6\n",
    "\n",
    "Accuracy = 14/20 = 0.7\n",
    "Precision = TruePositives / (TruePositives + FalsePositives) = 8/12 = 0.67\n",
    "Recall = TruePositives / (TruePositives + FalseNegatives) = 8/10 = 0.8\n",
    "F-Measure = (2 * Precision * Recall) / (Precision + Recall) = 0.73"
   ]
  },
  {
   "cell_type": "code",
   "execution_count": null,
   "metadata": {},
   "outputs": [],
   "source": []
  }
 ],
 "metadata": {
  "language_info": {
   "name": "python"
  }
 },
 "nbformat": 4,
 "nbformat_minor": 2
}
