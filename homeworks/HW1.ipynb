{
 "cells": [
  {
   "cell_type": "markdown",
   "metadata": {
    "deletable": false,
    "editable": false,
    "nbgrader": {
     "cell_type": "markdown",
     "checksum": "13c10311f0806aef9baa76a2817e2e96",
     "grade": false,
     "grade_id": "Description",
     "locked": true,
     "schema_version": 3,
     "solution": false,
     "task": false
    }
   },
   "source": [
    "## Assignment-1\n",
    "##### Total number of points: 50\n",
    "#### Due date: 09/16/2024 5 PM ET\n",
    "\n",
    "Before you submit this homework, make sure everything runs as expected. First, restart the kernel (in the menu, select Kernel → Restart) and then run all cells (in the menubar, select Cell → Run All). You can discuss with others regarding the homework but all work must be your own.\n",
    "\n",
    "Steps to evaluate your solutions:\n",
    "\n",
    "Step-1: Try on Colab or Anaconda (Windows: https://docs.anaconda.com/anaconda/install/windows/ ; Mac:https://docs.anaconda.com/anaconda/install/mac-os/ ; Linux: https://docs.anaconda.com/anaconda/install/linux/)\n",
    "\n",
    "Step-2: Open the Jupyter Notebook by first launching the anaconda software console\n",
    "\n",
    "Step-3: Open the homework's .ipynb file and write your solutions at the appropriate location \"# YOUR CODE HERE\"\n",
    "\n",
    "Step-4: You can restart the kernel and click run all (in the menubar, select Cell → Run All) on the center-right on the top of this window.\n",
    "\n",
    "Step-5: Now go to \"File\" then click on \"Download as\" then click on \"Notebook (.ipynb)\" Please DO NOT change the file name and just keep it as \".ipynb\"\n",
    "\n",
    "Step-6: Go to lms.rpi.edu and upload your homework at the appropriate link to submit this homework.\n",
    "\n",
    "\n",
    "#### Please note that for any question in this assignment you will receive points ONLY if your solution passes all the test cases including hidden testcases as well. So please make sure you try to think all possible scenarios before submitting your answers.  \n",
    "- Note that hidden tests are present to ensure you are not hardcoding. \n",
    "- If caught cheating: \n",
    "    - you will receive a score of 0 for the 1st violation. \n",
    "    - for repeated incidents, you will receive an automatic 'F' grade and will be reported to the dean of Lally School of Management.  "
   ]
  },
  {
   "cell_type": "markdown",
   "metadata": {
    "deletable": false,
    "editable": false,
    "nbgrader": {
     "cell_type": "markdown",
     "checksum": "ae9b2fc1eb2ec79359a6ddc55f0514ba",
     "grade": false,
     "grade_id": "q1-desc",
     "locked": true,
     "schema_version": 3,
     "solution": false,
     "task": false
    }
   },
   "source": [
    "#### Q1[5 points]. Variable Assignment\n",
    "\n",
    "- Assign the value of `var11` to `20`. \n",
    "- Set the value for `var12` to `5` times `var11` , and set the value of `var13` to `var12` times by `var11`. \n",
    "- Assign `var14` to cube value of `var13` (meaning `var13` power `3`). "
   ]
  },
  {
   "cell_type": "code",
   "execution_count": 17,
   "metadata": {
    "deletable": false,
    "nbgrader": {
     "cell_type": "code",
     "checksum": "c52315733159c97162eeceb25530ab08",
     "grade": false,
     "grade_id": "q1-sol",
     "locked": false,
     "schema_version": 3,
     "solution": true,
     "task": false
    }
   },
   "outputs": [],
   "source": [
    "#Assign var11; var12; var13; var14\n",
    "\n",
    "# YOUR CODE HERE\n",
    "var11 = 20\n",
    "var12 = 5 * var11\n",
    "var13 = var12 * var11\n",
    "var14 = var13 ** 3\n",
    "# print(var11, var12, var13, var14)"
   ]
  },
  {
   "cell_type": "code",
   "execution_count": 20,
   "metadata": {
    "deletable": false,
    "editable": false,
    "nbgrader": {
     "cell_type": "code",
     "checksum": "1a7927975f8a35f9d7873ff037f14a5f",
     "grade": true,
     "grade_id": "1",
     "locked": true,
     "points": 3,
     "schema_version": 3,
     "solution": false,
     "task": false
    }
   },
   "outputs": [],
   "source": [
    "#Do not change this cell.\n",
    "#Test cell-1 (3 points)\n",
    "assert var11 == 20\n",
    "assert var12 == 100\n",
    "assert var14 == 8000000000"
   ]
  },
  {
   "cell_type": "code",
   "execution_count": 12,
   "metadata": {
    "deletable": false,
    "editable": false,
    "nbgrader": {
     "cell_type": "code",
     "checksum": "f62fd6c71cb8b03fbc6e73fe05e3f344",
     "grade": true,
     "grade_id": "2",
     "locked": true,
     "points": 2,
     "schema_version": 3,
     "solution": false,
     "task": false
    }
   },
   "outputs": [],
   "source": [
    "#Do not change this cell.\n",
    "#Test cell-2 (2 points)"
   ]
  },
  {
   "cell_type": "markdown",
   "metadata": {
    "deletable": false,
    "editable": false,
    "nbgrader": {
     "cell_type": "markdown",
     "checksum": "07c4bb64f83c42a300b27a7064da4dd9",
     "grade": false,
     "grade_id": "q21-desc",
     "locked": true,
     "schema_version": 3,
     "solution": false,
     "task": false
    }
   },
   "source": [
    "#### Q2-1 [5 points]: List\n",
    "\n",
    "- Create an empty list `var21`\n",
    "- Create a list `var22` with integers `1`, `2`, `3` (all integers).\n",
    "- Create a nested list `var23` with `var21` and `var22`\n",
    "- Create a list `var24` with only `4` (integer) repeated 3 times.\n",
    "- Create a list `var25` with your firstName and lastName as two separate strings -- for example I will build this as ['lydia', 'manikonda']\n"
   ]
  },
  {
   "cell_type": "code",
   "execution_count": 13,
   "metadata": {
    "deletable": false,
    "nbgrader": {
     "cell_type": "code",
     "checksum": "5c54ef9ea9ff143d7a088efd214025b8",
     "grade": false,
     "grade_id": "q21-sol",
     "locked": false,
     "schema_version": 3,
     "solution": true,
     "task": false
    }
   },
   "outputs": [],
   "source": [
    "#Need to create lists var21, var22, var23, var24, var25 according to the instructions\n",
    "\n",
    "# YOUR CODE HERE\n",
    "var21 = []\n",
    "var22 = [1, 2, 3]\n",
    "var23 = [var21, var22]\n",
    "var24 = [4] * 3\n",
    "var25 = [\"Justin\", \"Chen\"]\n",
    "# print(var21, var22, var23, var24, var25)"
   ]
  },
  {
   "cell_type": "code",
   "execution_count": 14,
   "metadata": {
    "deletable": false,
    "editable": false,
    "nbgrader": {
     "cell_type": "code",
     "checksum": "76637f79ffad13f69dccdfe151ad69ad",
     "grade": true,
     "grade_id": "3",
     "locked": true,
     "points": 3,
     "schema_version": 3,
     "solution": false,
     "task": false
    }
   },
   "outputs": [],
   "source": [
    "#Do not change this cell.\n",
    "#Test cell-3 (3 points)\n",
    "assert len(var21) == 0\n",
    "assert set(var22) == {1,2,3}\n",
    "assert len(var23) == 2\n",
    "assert len(set(var24)) == 1\n"
   ]
  },
  {
   "cell_type": "code",
   "execution_count": 15,
   "metadata": {
    "deletable": false,
    "editable": false,
    "nbgrader": {
     "cell_type": "code",
     "checksum": "d3ae35befbe5b3a725eca455507fd3d2",
     "grade": true,
     "grade_id": "4",
     "locked": true,
     "points": 2,
     "schema_version": 3,
     "solution": false,
     "task": false
    }
   },
   "outputs": [],
   "source": [
    "#Do not change this cell.\n",
    "#Test cell-4 (2 points)"
   ]
  },
  {
   "cell_type": "markdown",
   "metadata": {
    "deletable": false,
    "editable": false,
    "nbgrader": {
     "cell_type": "markdown",
     "checksum": "b4e18f414c3ace05bc2b79df4b5e5333",
     "grade": false,
     "grade_id": "q22-desc",
     "locked": true,
     "schema_version": 3,
     "solution": false,
     "task": false
    }
   },
   "source": [
    "#### Q2-2 [5 points]: \n",
    "\n",
    "###### Note that all are integers in this list. Please follow the exact order as  listed here below from first line to the last line\n",
    "- Create a list `var21` with values in an order -- 10, -10, 20, -20 \n",
    "- Append a new element `30` to list `var21`  \n",
    "- Insert a new element `-30` at position `2`\n",
    "- Insert a new element `15` at position `20` (Yes it is 20 -- check what happens)\n",
    "- Create a new list `var22` rebinded as a new list with values only from `var21`. \n",
    "- Insert a new element `-10` at the end of the list `var21`. "
   ]
  },
  {
   "cell_type": "code",
   "execution_count": 19,
   "metadata": {
    "deletable": false,
    "nbgrader": {
     "cell_type": "code",
     "checksum": "fd208226384277d6a608a6f34ae4117e",
     "grade": false,
     "grade_id": "q22-sol",
     "locked": false,
     "schema_version": 3,
     "solution": true,
     "task": false
    }
   },
   "outputs": [],
   "source": [
    "#Need to create lists var21 and var22 according to the instructions above\n",
    "\n",
    "# YOUR CODE HERE\n",
    "var21 = [10, -10, 20, -20]\n",
    "var21.append(30)\n",
    "var21.insert(2, -30)\n",
    "var21.insert(20, 15)\n",
    "var22 = var21.copy()\n",
    "var21.append(-10)\n",
    "# print(var21, var22)"
   ]
  },
  {
   "cell_type": "code",
   "execution_count": 20,
   "metadata": {
    "deletable": false,
    "editable": false,
    "nbgrader": {
     "cell_type": "code",
     "checksum": "bb90fa82c5630d8052824274c9a29dea",
     "grade": true,
     "grade_id": "5",
     "locked": true,
     "points": 2,
     "schema_version": 3,
     "solution": false,
     "task": false
    }
   },
   "outputs": [],
   "source": [
    "#Do not change this cell.\n",
    "#Test cell-5 (2 points)\n",
    "assert len(var21)==8\n",
    "assert var21[2]==-30\n",
    "assert var21[7]==-10\n",
    "assert var22[0] == 10\n"
   ]
  },
  {
   "cell_type": "code",
   "execution_count": 21,
   "metadata": {
    "deletable": false,
    "editable": false,
    "nbgrader": {
     "cell_type": "code",
     "checksum": "f7619d005ca4a7279045a38a397caf9d",
     "grade": true,
     "grade_id": "6",
     "locked": true,
     "points": 3,
     "schema_version": 3,
     "solution": false,
     "task": false
    }
   },
   "outputs": [],
   "source": [
    "#Do not change this cell.\n",
    "#Test cell-6 (3 points)"
   ]
  },
  {
   "cell_type": "markdown",
   "metadata": {
    "deletable": false,
    "editable": false,
    "nbgrader": {
     "cell_type": "markdown",
     "checksum": "0076be82468450fda4e1257e9d89e1e2",
     "grade": false,
     "grade_id": "q31-desc",
     "locked": true,
     "schema_version": 3,
     "solution": false,
     "task": false
    }
   },
   "source": [
    "#### Q3 [10 points] Dictionary\n",
    "\n",
    "###### Create a dictionary `var31` with three keys 1, 2, 3 and their corresponding values as 2, 4, 6; Create another dictionary `var32` with two keys 4, 5 and their corresponding values as 8, 10 respectively. Merge these two dictionaries `var31` and `var32` to create a new dictionary `var33`. "
   ]
  },
  {
   "cell_type": "code",
   "execution_count": 25,
   "metadata": {
    "deletable": false,
    "nbgrader": {
     "cell_type": "code",
     "checksum": "f59e9dc937c2533f404311e063692ba2",
     "grade": false,
     "grade_id": "q31-sol",
     "locked": false,
     "schema_version": 3,
     "solution": true,
     "task": false
    }
   },
   "outputs": [],
   "source": [
    "#Creating the dictionaries var31, var32, var33\n",
    "\n",
    "# YOUR CODE HERE\n",
    "var31 = {\n",
    "  1: 2,\n",
    "  2: 4,\n",
    "  3: 6,\n",
    "}\n",
    "var32 = {\n",
    "  4: 8,\n",
    "  5: 10\n",
    "}\n",
    "var33 = var31 | var32\n",
    "# print(var33)"
   ]
  },
  {
   "cell_type": "code",
   "execution_count": 26,
   "metadata": {
    "deletable": false,
    "editable": false,
    "nbgrader": {
     "cell_type": "code",
     "checksum": "9cea7074d3d30241b64c406d11d9200d",
     "grade": true,
     "grade_id": "7",
     "locked": true,
     "points": 3,
     "schema_version": 3,
     "solution": false,
     "task": false
    }
   },
   "outputs": [],
   "source": [
    "#Do not change this cell.\n",
    "#Test cell-7 (3 points)\n",
    "assert len(var31)==3\n",
    "assert len(var32)==2\n",
    "assert var33[4]==8\n"
   ]
  },
  {
   "cell_type": "code",
   "execution_count": 27,
   "metadata": {
    "deletable": false,
    "editable": false,
    "nbgrader": {
     "cell_type": "code",
     "checksum": "6af605a6c543ab6f76fb116927e09db0",
     "grade": true,
     "grade_id": "8",
     "locked": true,
     "points": 2,
     "schema_version": 3,
     "solution": false,
     "task": false
    }
   },
   "outputs": [],
   "source": [
    "#Do not change this cell.\n",
    "#Test cell-8 (2 points)"
   ]
  },
  {
   "cell_type": "markdown",
   "metadata": {
    "deletable": false,
    "editable": false,
    "nbgrader": {
     "cell_type": "markdown",
     "checksum": "2811867cd9db7091003ca8f91c6fd1d2",
     "grade": false,
     "grade_id": "q41-desc",
     "locked": true,
     "schema_version": 3,
     "solution": false,
     "task": false
    }
   },
   "source": [
    "#### Q4-1 [5 points]. Set\n",
    "\n",
    "- Create a set `S1` with values 1, 2, 3 in the same order as stated. \n",
    "- Assign the variable `Slen` as the length of this set `S1` \n",
    "- Create another set `S2` with values 4, 5, 6 in the same order as stated. \n",
    "- Create a new set `S3` by merging sets `S1` and `S2`"
   ]
  },
  {
   "cell_type": "code",
   "execution_count": 30,
   "metadata": {
    "deletable": false,
    "nbgrader": {
     "cell_type": "code",
     "checksum": "d308d8bb6e5c3578cb69bb81b5c246e0",
     "grade": false,
     "grade_id": "q41-sol",
     "locked": false,
     "schema_version": 3,
     "solution": true,
     "task": false
    }
   },
   "outputs": [
    {
     "name": "stdout",
     "output_type": "stream",
     "text": [
      "{1, 2, 3} {4, 5, 6} {1, 2, 3, 4, 5, 6}\n"
     ]
    }
   ],
   "source": [
    "#Please follow the above instructions to create S1, S2, S3\n",
    "\n",
    "# YOUR CODE HERE\n",
    "S1 = set([1, 2, 3])\n",
    "Slen = len(S1)\n",
    "S2 = set([4, 5, 6])\n",
    "S3 = S1.union(S2)\n",
    "# print(S1, S2, S3)"
   ]
  },
  {
   "cell_type": "code",
   "execution_count": 31,
   "metadata": {
    "deletable": false,
    "editable": false,
    "nbgrader": {
     "cell_type": "code",
     "checksum": "f4c30e4900ad1f8da36721ddd6d333c9",
     "grade": true,
     "grade_id": "9",
     "locked": true,
     "points": 3,
     "schema_version": 3,
     "solution": false,
     "task": false
    }
   },
   "outputs": [],
   "source": [
    "#Do not change this cell.\n",
    "#Test cell-9 (3 points)\n",
    "assert Slen==3\n",
    "assert 1 in S1\n",
    "assert S3=={1, 2, 3, 4, 5, 6}\n"
   ]
  },
  {
   "cell_type": "code",
   "execution_count": 32,
   "metadata": {
    "deletable": false,
    "editable": false,
    "nbgrader": {
     "cell_type": "code",
     "checksum": "bb13881c3a9eaa1b0a0f856b76d0c964",
     "grade": true,
     "grade_id": "10",
     "locked": true,
     "points": 2,
     "schema_version": 3,
     "solution": false,
     "task": false
    }
   },
   "outputs": [],
   "source": [
    "#Do not change this cell.\n",
    "#Test cell-10 (2 points)"
   ]
  },
  {
   "cell_type": "markdown",
   "metadata": {
    "deletable": false,
    "editable": false,
    "nbgrader": {
     "cell_type": "markdown",
     "checksum": "d026aa7d2ce656d21dbec6d646da0732",
     "grade": false,
     "grade_id": "q42-desc",
     "locked": true,
     "schema_version": 3,
     "solution": false,
     "task": false
    }
   },
   "source": [
    "#### Q4-2 [5 points]\n",
    "\n",
    "- Create a set `S4` with values 1, 2, 3, 4, 5 passed as strings \n",
    "- Add another string `'6'` to `S4`\n",
    "- Convert each element in S4 which is a string to integer and save this new set as `S5`"
   ]
  },
  {
   "cell_type": "code",
   "execution_count": 19,
   "metadata": {
    "deletable": false,
    "nbgrader": {
     "cell_type": "code",
     "checksum": "e26198608b49949c78247d93665a4b4c",
     "grade": false,
     "grade_id": "q42-sol",
     "locked": false,
     "schema_version": 3,
     "solution": true,
     "task": false
    }
   },
   "outputs": [],
   "source": [
    "# YOUR CODE HERE\n",
    "S4 = set([\"1\", \"2\", \"3\", \"4\", \"5\"])\n",
    "S4.add(\"6\")\n",
    "S5 = set(int(x) for x in S4)\n",
    "# print(S4, S5)"
   ]
  },
  {
   "cell_type": "code",
   "execution_count": 36,
   "metadata": {
    "deletable": false,
    "editable": false,
    "nbgrader": {
     "cell_type": "code",
     "checksum": "66abb4d268995581b7303afc6602c16c",
     "grade": true,
     "grade_id": "11",
     "locked": true,
     "points": 5,
     "schema_version": 3,
     "solution": false,
     "task": false
    }
   },
   "outputs": [],
   "source": [
    "#Do not change this cell.\n",
    "#Test cell-11 (5 points)\n",
    "assert set(S4)=={'1', '2', '3', '4', '5','6'}\n",
    "assert S5=={1, 2, 3, 4, 5, 6}"
   ]
  },
  {
   "cell_type": "markdown",
   "metadata": {
    "deletable": false,
    "editable": false,
    "nbgrader": {
     "cell_type": "markdown",
     "checksum": "2dea00df2d0e737d7e7f67e7565479fa",
     "grade": false,
     "grade_id": "q5-desc",
     "locked": true,
     "schema_version": 3,
     "solution": false,
     "task": false
    }
   },
   "source": [
    "#### Q5 [5 points]. Function\n",
    "\n",
    "- Write a function `ReturnList` that takes a number `num` (where `num` is >0) and returns a list of numbers from 0 to `num` (inclusive). If number `num`<=0 return `[-1]`. "
   ]
  },
  {
   "cell_type": "code",
   "execution_count": 6,
   "metadata": {
    "deletable": false,
    "nbgrader": {
     "cell_type": "code",
     "checksum": "16656660dc15f95c5005697128324e4d",
     "grade": false,
     "grade_id": "q5-sol",
     "locked": false,
     "schema_version": 3,
     "solution": true,
     "task": false
    }
   },
   "outputs": [],
   "source": [
    "\n",
    "def ReturnList(num):\n",
    "\n",
    "    # YOUR CODE HERE\n",
    "    return [-1] if num <= 0 else list(range(0, num + 1))\n",
    "ReturnList(4)"
   ]
  },
  {
   "cell_type": "code",
   "execution_count": 2,
   "metadata": {
    "deletable": false,
    "editable": false,
    "nbgrader": {
     "cell_type": "code",
     "checksum": "356b5662e50a27760ccaa11f664d118f",
     "grade": true,
     "grade_id": "12",
     "locked": true,
     "points": 3,
     "schema_version": 3,
     "solution": false,
     "task": false
    }
   },
   "outputs": [],
   "source": [
    "#Do not change this cell.\n",
    "#Test cell-12 (3 points)\n",
    "assert ReturnList(3)==[0, 1, 2, 3]\n",
    "assert ReturnList(4)==[0, 1, 2, 3, 4]\n",
    "assert ReturnList(6)==[0, 1, 2, 3, 4, 5, 6]\n"
   ]
  },
  {
   "cell_type": "code",
   "execution_count": 47,
   "metadata": {
    "deletable": false,
    "editable": false,
    "nbgrader": {
     "cell_type": "code",
     "checksum": "55ef0b912647e28261c2973f3d1d09ae",
     "grade": true,
     "grade_id": "13",
     "locked": true,
     "points": 2,
     "schema_version": 3,
     "solution": false,
     "task": false
    }
   },
   "outputs": [],
   "source": [
    "#Do not change this cell.\n",
    "#Test cell-13 (2 points)"
   ]
  },
  {
   "cell_type": "markdown",
   "metadata": {
    "deletable": false,
    "editable": false,
    "nbgrader": {
     "cell_type": "markdown",
     "checksum": "2c2f814cf72965ac1e4422a122ae8904",
     "grade": false,
     "grade_id": "q6-desc",
     "locked": true,
     "schema_version": 3,
     "solution": false,
     "task": false
    }
   },
   "source": [
    "#### Q6 [5 points]. Lambda Function \n",
    "\n",
    "- Write a lambda function `CountVowels` that takes one string `str1` as input. This function should count and return an integer value representing the number of vowels in this string and assign this output to variable `var61`. \n",
    "\n",
    "- Vowels are {'a', 'e', 'i','o,'u'}\n",
    "\n"
   ]
  },
  {
   "cell_type": "code",
   "execution_count": 10,
   "metadata": {
    "deletable": false,
    "nbgrader": {
     "cell_type": "code",
     "checksum": "5ce7b66c3cafdb9dfd2dc137a358cbe4",
     "grade": false,
     "grade_id": "q6-sol",
     "locked": false,
     "schema_version": 3,
     "solution": true,
     "task": false
    }
   },
   "outputs": [
    {
     "name": "stdout",
     "output_type": "stream",
     "text": [
      "3\n"
     ]
    }
   ],
   "source": [
    "\n",
    "# YOUR CODE HERE\n",
    "CountVowels = lambda str1: sum(1 for char in str1 if char in 'aeiou')\n",
    "# def CountVowels(str1):\n",
    "#   return sum(1 for char in str1 if char in 'aeiou')\n",
    "# print(CountVowels(\"hello world\"))\n"
   ]
  },
  {
   "cell_type": "code",
   "execution_count": 11,
   "metadata": {
    "deletable": false,
    "editable": false,
    "nbgrader": {
     "cell_type": "code",
     "checksum": "0a5dfe971b6cce4fb0a08156218f97ec",
     "grade": true,
     "grade_id": "14",
     "locked": true,
     "points": 3,
     "schema_version": 3,
     "solution": false,
     "task": false
    }
   },
   "outputs": [],
   "source": [
    "#Do not change this cell.\n",
    "#Test cell-14 (3 points)\n",
    "assert CountVowels('machine')==3\n",
    "assert CountVowels('machine learning')==6\n"
   ]
  },
  {
   "cell_type": "code",
   "execution_count": 50,
   "metadata": {
    "deletable": false,
    "editable": false,
    "nbgrader": {
     "cell_type": "code",
     "checksum": "4366e4f281dd53e41058a86e8c00b391",
     "grade": true,
     "grade_id": "15",
     "locked": true,
     "points": 2,
     "schema_version": 3,
     "solution": false,
     "task": false
    }
   },
   "outputs": [],
   "source": [
    "#Do not change this cell.\n",
    "#Test cell-15 (2 points)"
   ]
  },
  {
   "cell_type": "markdown",
   "metadata": {
    "deletable": false,
    "editable": false,
    "nbgrader": {
     "cell_type": "markdown",
     "checksum": "b3d023ff1d7f7905853ddd68472476c0",
     "grade": false,
     "grade_id": "q7-desc",
     "locked": true,
     "schema_version": 3,
     "solution": false,
     "task": false
    }
   },
   "source": [
    "#### Q7 [10 points]. Pattern Generation\n",
    "- Write a function `GenPattern` that takes one integer as a parameter `limit` and generates a pattern with two characters as shown in the examples here.\n",
    "![When limit = 7](https://raw.githubusercontent.com/lmanikon/lmanikon.github.io/master/teaching/datasets/patternQuestion2.PNG)\n",
    "\n",
    "![When limit = 17](https://raw.githubusercontent.com/lmanikon/lmanikon.github.io/master/teaching/datasets/patternQuestion.PNG)\n",
    "\n",
    "- You return this pattern as a nested list from the function. Assume that `limit` is always an odd number (limit%2 ==1). "
   ]
  },
  {
   "cell_type": "code",
   "execution_count": 16,
   "metadata": {
    "deletable": false,
    "nbgrader": {
     "cell_type": "code",
     "checksum": "8bdae51004a08f98529898738a93a25e",
     "grade": false,
     "grade_id": "q7-sol",
     "locked": false,
     "schema_version": 3,
     "solution": true,
     "task": false
    }
   },
   "outputs": [
    {
     "name": "stdout",
     "output_type": "stream",
     "text": [
      "['    *    ', '   ***   ', '  *****  ', ' ******* ', '*********', ' ******* ', '  *****  ', '   ***   ', '    *    ']\n"
     ]
    }
   ],
   "source": [
    "def GenPattern(limit):\n",
    "    # YOUR CODE HERE\n",
    "    res = []\n",
    "    # top half of the diamond\n",
    "    for i in range(1, limit + 1, 2):\n",
    "        res.append(' ' * ((limit - i) // 2) + '*' * i + ' ' * ((limit - i) // 2))\n",
    "    # bottom half of the diamond\n",
    "    for i in range(limit - 2, 0, -2):\n",
    "        res.append(' ' * ((limit - i) // 2) + '*' * i + ' ' * ((limit - i) // 2))\n",
    "    return res\n",
    "print(GenPattern(9))"
   ]
  },
  {
   "cell_type": "code",
   "execution_count": 70,
   "metadata": {
    "deletable": false,
    "editable": false,
    "nbgrader": {
     "cell_type": "code",
     "checksum": "48d70c516464d9c1378234b67eb751ef",
     "grade": true,
     "grade_id": "16",
     "locked": true,
     "points": 5,
     "schema_version": 3,
     "solution": false,
     "task": false
    }
   },
   "outputs": [],
   "source": [
    "#Do not change this cell.\n",
    "#Test cell-16 (5 points)\n",
    "assert len(GenPattern(7))==7\n",
    "assert GenPattern(7)[0].count(' ')==6\n",
    "assert GenPattern(7)[3][0]=='*'\n",
    "assert GenPattern(17)[8][0]=='*'\n",
    "assert GenPattern(17)[8].count('*')==17"
   ]
  },
  {
   "cell_type": "code",
   "execution_count": 71,
   "metadata": {
    "deletable": false,
    "editable": false,
    "nbgrader": {
     "cell_type": "code",
     "checksum": "46fcd9af96a6c4f34a0a9cccdef03269",
     "grade": true,
     "grade_id": "17",
     "locked": true,
     "points": 5,
     "schema_version": 3,
     "solution": false,
     "task": false
    }
   },
   "outputs": [],
   "source": [
    "#Do not change this cell.\n",
    "#Test cell-17 (5 points)"
   ]
  },
  {
   "cell_type": "code",
   "execution_count": null,
   "metadata": {},
   "outputs": [],
   "source": []
  }
 ],
 "metadata": {
  "kernelspec": {
   "display_name": "Python 3 (ipykernel)",
   "language": "python",
   "name": "python3"
  },
  "language_info": {
   "codemirror_mode": {
    "name": "ipython",
    "version": 3
   },
   "file_extension": ".py",
   "mimetype": "text/x-python",
   "name": "python",
   "nbconvert_exporter": "python",
   "pygments_lexer": "ipython3",
   "version": "3.12.4"
  }
 },
 "nbformat": 4,
 "nbformat_minor": 4
}
