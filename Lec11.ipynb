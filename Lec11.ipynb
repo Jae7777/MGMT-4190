{
  "cells": [
    {
      "cell_type": "markdown",
      "metadata": {},
      "source": [
        "|                    | Actual Class|     |\n",
        "| ------------------ | --------|------- |\n",
        "| Predicted Class    | True    | False  |\n",
        "| True               | 5       | 2      |\n",
        "| False              | 3       | 2      |\n",
        "\n",
        "\n",
        "TP: 5\n",
        "FP: 2\n",
        "FN: 3\n",
        "TN: 2\n",
        "\n",
        "Accuracy: 7/13\n",
        "Precision: 5/7\n",
        "Recall: 5/8\n",
        "F1 Score: 2*(5/7*5/8)/(5/7+5/8) = 0.625"
      ]
    },
    {
      "cell_type": "code",
      "execution_count": 6,
      "metadata": {
        "id": "IyvHzOwg1O16"
      },
      "outputs": [
        {
          "name": "stdout",
          "output_type": "stream",
          "text": [
            "[[0 2]\n",
            " [1 4]]\n",
            "True Positives:  4\n",
            "True Negatives:  0\n",
            "False Positives:  2\n",
            "False Negatives:  1\n"
          ]
        }
      ],
      "source": [
        "import numpy as np\n",
        "\n",
        "y_true = [1, 1, 0, 1, 1, 1, 0] #ground truth/actual class labels\n",
        "y_pred = [0, 1, 1, 1, 1, 1, 1] #predicted class labels\n",
        "\n",
        "#Create a confusion matrix\n",
        "confusion_matrix = np.array([[0, 0], [0, 0]])\n",
        "for i in range(len(y_true)):\n",
        "  confusion_matrix[y_true[i]][y_pred[i]] += 1\n",
        "\n",
        "TP = confusion_matrix[1][1]\n",
        "TN = confusion_matrix[0][0]\n",
        "FP = confusion_matrix[0][1]\n",
        "FN = confusion_matrix[1][0]\n",
        "\n",
        "print(confusion_matrix)\n",
        "print(\"True Positives: \", TP)\n",
        "print(\"True Negatives: \", TN)\n",
        "print(\"False Positives: \", FP)\n",
        "print(\"False Negatives: \", FN)"
      ]
    },
    {
      "cell_type": "code",
      "execution_count": 9,
      "metadata": {
        "id": "maFK_0Wv1RcG"
      },
      "outputs": [
        {
          "data": {
            "text/plain": [
              "array([[0, 2],\n",
              "       [1, 4]])"
            ]
          },
          "execution_count": 9,
          "metadata": {},
          "output_type": "execute_result"
        }
      ],
      "source": [
        "#Using the inbuilt library\n",
        "from sklearn.metrics import confusion_matrix\n",
        "confusion_matrix(y_true, y_pred)"
      ]
    },
    {
      "cell_type": "code",
      "execution_count": 10,
      "metadata": {
        "id": "iuPlCDHA1Rfl"
      },
      "outputs": [
        {
          "name": "stdout",
          "output_type": "stream",
          "text": [
            "Precision:  0.6666666666666666\n",
            "Recall:  0.8\n",
            "Accuracy:  0.5714285714285714\n"
          ]
        }
      ],
      "source": [
        "#Compute Precision, Recall and Accuracy values\n",
        "precision = TP / (TP + FP)\n",
        "recall = TP / (TP + FN)\n",
        "accuracy = (TP + TN) / (TP + TN + FP + FN)\n",
        "print(\"Precision: \", precision)\n",
        "print(\"Recall: \", recall)\n",
        "print(\"Accuracy: \", accuracy)"
      ]
    },
    {
      "cell_type": "code",
      "execution_count": 11,
      "metadata": {
        "id": "7XGYg7SX1ZwT"
      },
      "outputs": [
        {
          "name": "stdout",
          "output_type": "stream",
          "text": [
            "Precision:  0.6666666666666666\n",
            "Recall:  0.8\n",
            "Accuracy:  0.5714285714285714\n"
          ]
        }
      ],
      "source": [
        "#Using the inbuilt library\n",
        "from sklearn.metrics import precision_score, recall_score, accuracy_score\n",
        "print(\"Precision: \", precision_score(y_true, y_pred))\n",
        "print(\"Recall: \", recall_score(y_true, y_pred))\n",
        "print(\"Accuracy: \", accuracy_score(y_true, y_pred))\n"
      ]
    },
    {
      "cell_type": "code",
      "execution_count": 15,
      "metadata": {},
      "outputs": [
        {
          "name": "stdout",
          "output_type": "stream",
          "text": [
            "Precision:  0.6666666666666666\n",
            "Recall:  0.6666666666666666\n",
            "Precision:  0.6666666666666666\n",
            "Recall:  0.8\n"
          ]
        }
      ],
      "source": [
        "y_true = [1, 1, 0, 1, 1, 1, 0]\n",
        "y_pred = [0, 1, 1, 1, 1, 1, 1]\n",
        "\n",
        "# precision, recall -- index: 3\n",
        "precision, recall = precision_score(y_true[:4], y_pred[:4]), recall_score(y_true[:4], y_pred[:4])\n",
        "print(\"Precision: \", precision)\n",
        "print(\"Recall: \", recall)\n",
        "\n",
        "# precision, recall -- index: 6\n",
        "precision, recall = precision_score(y_true, y_pred), recall_score(y_true, y_pred)\n",
        "print(\"Precision: \", precision)\n",
        "print(\"Recall: \", recall)"
      ]
    },
    {
      "cell_type": "code",
      "execution_count": 19,
      "metadata": {},
      "outputs": [
        {
          "name": "stderr",
          "output_type": "stream",
          "text": [
            "c:\\Users\\Justin\\anaconda3\\envs\\MGMT-4190\\Lib\\site-packages\\sklearn\\metrics\\_classification.py:1531: UndefinedMetricWarning: Precision is ill-defined and being set to 0.0 due to no predicted samples. Use `zero_division` parameter to control this behavior.\n",
            "  _warn_prf(average, modifier, f\"{metric.capitalize()} is\", len(result))\n"
          ]
        },
        {
          "data": {
            "image/png": "[encoded data removed]",
            "text/plain": [
              "<Figure size 640x480 with 1 Axes>"
            ]
          },
          "metadata": {},
          "output_type": "display_data"
        }
      ],
      "source": [
        "# plot precision-recall curve\n",
        "import matplotlib.pyplot as plt\n",
        "\n",
        "indices, precisions, recalls = [], [], []\n",
        "\n",
        "for i in range(1, len(y_true) + 1):\n",
        "  precision = precision_score(y_true[:i], y_pred[:i])\n",
        "  recall = recall_score(y_true[:i], y_pred[:i])\n",
        "  indices.append(i)\n",
        "  precisions.append(precision)\n",
        "  recalls.append(recall)\n",
        "\n",
        "plt.plot(indices, precisions, label='Precision')\n",
        "plt.plot(indices, recalls, label='Recall')\n",
        "plt.xlabel(\"Indices\")\n",
        "plt.ylabel(\"Values\")\n",
        "plt.title('Precision-Recall Curve')\n",
        "plt.show()\n"
      ]
    },
    {
      "cell_type": "code",
      "execution_count": null,
      "metadata": {},
      "outputs": [],
      "source": []
    }
  ],
  "metadata": {
    "colab": {
      "provenance": []
    },
    "kernelspec": {
      "display_name": "Python 3",
      "name": "python3"
    },
    "language_info": {
      "codemirror_mode": {
        "name": "ipython",
        "version": 3
      },
      "file_extension": ".py",
      "mimetype": "text/x-python",
      "name": "python",
      "nbconvert_exporter": "python",
      "pygments_lexer": "ipython3",
      "version": "3.12.3"
    }
  },
  "nbformat": 4,
  "nbformat_minor": 0
}
