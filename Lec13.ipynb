{
  "cells": [
    {
      "cell_type": "markdown",
      "metadata": {
        "id": "QrvPH-DPQjHU"
      },
      "source": [
        "### Diabetes dataset\n",
        "\n",
        "#### Several constraints were placed on the selection of these instances from a larger database. In particular, all patients here are females at least 21 years old of Pima Indian heritage.\n",
        "\n",
        "- Pregnancies: Number of times pregnant\n",
        "- Glucose: Plasma glucose concentration a 2 hours in an oral glucose tolerance test\n",
        "- BloodPressure: Diastolic blood pressure (mm Hg)\n",
        "- SkinThickness: Triceps skin fold thickness (mm)\n",
        "- Insulin: 2-Hour serum insulin (mu U/ml)\n",
        "- BMI: Body mass index (weight in kg/(height in m)^2)\n",
        "- DiabetesPedigreeFunction: Diabetes pedigree function\n",
        "- Age: Age (years)\n",
        "- Outcome: Class variable (0 or 1)\n",
        "\n",
        "#### Sources:\n",
        "- Original owners: National Institute of Diabetes and Digestive and\n",
        "Kidney Diseases\n",
        "- Donor of database: Vincent Sigillito (vgs@aplcen.apl.jhu.edu)\n",
        "Research Center, RMI Group Leader\n",
        "Applied Physics Laboratory\n",
        "The Johns Hopkins University\n",
        "Johns Hopkins Road\n",
        "Laurel, MD 20707\n",
        "(301) 953-6231"
      ]
    },
    {
      "cell_type": "code",
      "execution_count": 8,
      "metadata": {
        "id": "y9Yw4KRZQie_"
      },
      "outputs": [
        {
          "name": "stdout",
          "output_type": "stream",
          "text": [
            "Rows: 768\n",
            "Cols: 9\n",
            "   Pregnancies  Glucose  BloodPressure  SkinThickness  Insulin   BMI  \\\n",
            "0            6      148             72             35        0  33.6   \n",
            "1            1       85             66             29        0  26.6   \n",
            "\n",
            "   DiabetesPedigreeFunction  Age  Outcome  \n",
            "0                     0.627   50        1  \n",
            "1                     0.351   31        0  \n"
          ]
        }
      ],
      "source": [
        "#Lets read the file to a dataframe and print all the rows and columns\n",
        "import pandas as pd\n",
        "df = pd.read_csv('https://raw.githubusercontent.com/lmanikon/lmanikon.github.io/master/teaching/datasets/diabetesKaggle.csv')\n",
        "print(f'Rows: {df.shape[0]}\\nCols: {df.shape[1]}')\n",
        "print(df.head(2))"
      ]
    },
    {
      "cell_type": "code",
      "execution_count": 13,
      "metadata": {
        "id": "PNlUNFQCQooz"
      },
      "outputs": [
        {
          "name": "stdout",
          "output_type": "stream",
          "text": [
            "X:\n",
            "   Pregnancies  Glucose  BloodPressure  SkinThickness  Insulin   BMI  \\\n",
            "0            6      148             72             35        0  33.6   \n",
            "1            1       85             66             29        0  26.6   \n",
            "\n",
            "   DiabetesPedigreeFunction  Age  \n",
            "0                     0.627   50  \n",
            "1                     0.351   31  \n",
            "y:\n",
            "0      1\n",
            "1      0\n",
            "2      1\n",
            "3      0\n",
            "4      1\n",
            "      ..\n",
            "763    0\n",
            "764    0\n",
            "765    0\n",
            "766    1\n",
            "767    0\n",
            "Name: Outcome, Length: 768, dtype: int64\n",
            "Outcome\n",
            "0    500\n",
            "1    268\n",
            "Name: count, dtype: int64\n"
          ]
        }
      ],
      "source": [
        "#Split the data into X and y meaning feature set and class label or target label respectively\n",
        "X = df.drop('Outcome', axis=1)\n",
        "y = df['Outcome']\n",
        "print(f'X:\\n{X.head(2)}')\n",
        "print(f'y:\\n{y}')\n",
        "print(y.value_counts())\n"
      ]
    },
    {
      "cell_type": "code",
      "execution_count": 15,
      "metadata": {},
      "outputs": [
        {
          "name": "stdout",
          "output_type": "stream",
          "text": [
            "[[ 0.63994726  0.84832379  0.14964075 ...  0.20401277  0.46849198\n",
            "   1.4259954 ]\n",
            " [-0.84488505 -1.12339636 -0.16054575 ... -0.68442195 -0.36506078\n",
            "  -0.19067191]\n",
            " [ 1.23388019  1.94372388 -0.26394125 ... -1.10325546  0.60439732\n",
            "  -0.10558415]\n",
            " ...\n",
            " [ 0.3429808   0.00330087  0.14964075 ... -0.73518964 -0.68519336\n",
            "  -0.27575966]\n",
            " [-0.84488505  0.1597866  -0.47073225 ... -0.24020459 -0.37110101\n",
            "   1.17073215]\n",
            " [-0.84488505 -0.8730192   0.04624525 ... -0.20212881 -0.47378505\n",
            "  -0.87137393]]\n",
            "[0.26179749 0.47819876 0.60690249 0.71634362 0.81163667 0.89696522\n",
            " 0.94944224 1.        ]\n"
          ]
        }
      ],
      "source": [
        "# standardize feature set\n",
        "from sklearn.preprocessing import StandardScaler\n",
        "scaler = StandardScaler()\n",
        "X_std = scaler.fit_transform(X)\n",
        "print(X_std)\n",
        "\n",
        "# should we use PCA? why?\n",
        "# PCA is used to reduce the dimensionality of the data set. It is used to reduce the number of features in the data set.\n",
        "from sklearn.decomposition import PCA\n",
        "pca = PCA()\n",
        "pca.fit(X_std)\n",
        "print(pca.explained_variance_ratio_.cumsum())"
      ]
    },
    {
      "cell_type": "code",
      "execution_count": 18,
      "metadata": {},
      "outputs": [
        {
          "name": "stdout",
          "output_type": "stream",
          "text": [
            "X_train:\n",
            "[[-1.14185152  1.28648383  0.35643175 ...  2.69162998  0.86714764\n",
            "  -0.70119842]\n",
            " [-0.54791859 -1.06080207 -3.57259724 ... -0.39250768  0.9094293\n",
            "  -0.70119842]\n",
            " [-1.14185152  0.5040552  -0.05715025 ... -0.91287659 -0.99324546\n",
            "  -1.04154944]\n",
            " ...\n",
            " [-0.25095213 -0.15318486  0.25303625 ... -0.72249772 -1.10196973\n",
            "  -0.78628618]\n",
            " [-0.84488505 -1.02950492 -2.02166474 ...  2.92008462  0.07285643\n",
            "  -0.61611067]\n",
            " [ 0.3429808  -0.77912776  0.25303625 ...  0.20401277  1.58593589\n",
            "   0.83038113]]\n",
            "X_test:\n",
            "[[ 0.04601433  1.03610667  0.14964075 ... -0.08790149 -0.40432232\n",
            "   0.31985461]\n",
            " [-0.54791859 -0.27837344  0.87340925 ...  0.81322515 -0.68217324\n",
            "  -0.44593516]\n",
            " [-0.84488505  0.44146091 -0.78091875 ... -0.67173002  0.6496991\n",
            "   2.44704844]\n",
            " ...\n",
            " [ 1.23388019 -1.12339636 -0.729221   ... -0.96364429 -1.01438629\n",
            "   0.74529338]\n",
            " [ 0.3429808   0.28497518  0.66661825 ...  0.90206862  1.46211102\n",
            "   0.31985461]\n",
            " [-0.25095213 -0.68523633 -0.78091875 ... -0.81134119 -0.96002416\n",
            "  -0.78628618]]\n",
            "y_train:\n",
            "120    1\n",
            "172    0\n",
            "307    0\n",
            "7      0\n",
            "448    1\n",
            "      ..\n",
            "369    1\n",
            "320    0\n",
            "527    0\n",
            "125    1\n",
            "265    0\n",
            "Name: Outcome, Length: 614, dtype: int64\n",
            "y_test:\n",
            "568    0\n",
            "620    0\n",
            "456    0\n",
            "197    1\n",
            "714    0\n",
            "      ..\n",
            "264    1\n",
            "706    1\n",
            "194    0\n",
            "179    1\n",
            "514    0\n",
            "Name: Outcome, Length: 154, dtype: int64\n"
          ]
        }
      ],
      "source": [
        "# train test split\n",
        "from sklearn.model_selection import train_test_split\n",
        "X_train, X_test, y_train, y_test = train_test_split(X_std, y, test_size=0.2, random_state=10)\n",
        "print(f'X_train:\\n{X_train}')\n",
        "print(f'X_test:\\n{X_test}')\n",
        "print(f'y_train:\\n{y_train}')\n",
        "print(f'y_test:\\n{y_test}')"
      ]
    },
    {
      "cell_type": "code",
      "execution_count": 20,
      "metadata": {},
      "outputs": [
        {
          "name": "stdout",
          "output_type": "stream",
          "text": [
            "Accuracy: 0.7662337662337663\n"
          ]
        }
      ],
      "source": [
        "# logistic regression\n",
        "from sklearn.linear_model import LogisticRegression\n",
        "from sklearn.metrics import accuracy_score\n",
        "lr = LogisticRegression()\n",
        "lr.fit(X_train, y_train)\n",
        "y_pred = lr.predict(X_test)\n",
        "print(f'Accuracy: {accuracy_score(y_test, y_pred)}')"
      ]
    },
    {
      "cell_type": "code",
      "execution_count": 23,
      "metadata": {},
      "outputs": [
        {
          "name": "stdout",
          "output_type": "stream",
          "text": [
            "MSE: 5071.179775280899\n",
            "MAE: 55.51685393258427\n"
          ]
        }
      ],
      "source": [
        "from sklearn.datasets import load_diabetes\n",
        "# initialize X and y\n",
        "X, y = load_diabetes(return_X_y=True)\n",
        "\n",
        "# standardize X\n",
        "from sklearn.preprocessing import StandardScaler\n",
        "scaler = StandardScaler()\n",
        "X_std = scaler.fit_transform(X)\n",
        "\n",
        "# train test split\n",
        "from sklearn.model_selection import train_test_split\n",
        "X_train, X_test, y_train, y_test = train_test_split(X_std, y, test_size=0.2, random_state=10)\n",
        "\n",
        "# linear regression\n",
        "from sklearn.linear_model import LogisticRegression\n",
        "lr = LogisticRegression()\n",
        "lr.fit(X_train, y_train)\n",
        "y_pred = lr.predict(X_test)\n",
        "\n",
        "# MSE\n",
        "from sklearn.metrics import mean_squared_error\n",
        "print(f'MSE: {mean_squared_error(y_test, y_pred)}')\n",
        "\n",
        "# MAE\n",
        "from sklearn.metrics import mean_absolute_error\n",
        "print(f'MAE: {mean_absolute_error(y_test, y_pred)}')\n"
      ]
    },
    {
      "cell_type": "code",
      "execution_count": 33,
      "metadata": {},
      "outputs": [
        {
          "name": "stdout",
          "output_type": "stream",
          "text": [
            "j q\n",
            "a ?\n",
            "y b\n"
          ]
        },
        {
          "data": {
            "text/plain": [
              "'jteaymxurvnwzlogfshbkpcidqgteymxjuqrvnwzlogfshbkpcidteamxjuqrvnwzlogfshkpcidb'"
            ]
          },
          "execution_count": 33,
          "metadata": {},
          "output_type": "execute_result"
        }
      ],
      "source": [
        "import string\n",
        "\n",
        "def modifyString(s: str) -> str:\n",
        "    res = \"\"\n",
        "    charset = set(string.ascii_lowercase)\n",
        "    for i, c in enumerate(s):\n",
        "        if c == '?':\n",
        "            before = \"\" if i - 1 < 0 else res[i-1]\n",
        "            after = \"\" if i + 1 >= len(s) else s[i+1]\n",
        "            print(before, after)\n",
        "            for rc in charset:\n",
        "                if rc != before and rc != after:\n",
        "                    res += rc\n",
        "        else:\n",
        "            res += c\n",
        "            # print(c)\n",
        "\n",
        "    return res\n",
        "modifyString(\"j?qg??b\")"
      ]
    },
    {
      "cell_type": "code",
      "execution_count": null,
      "metadata": {},
      "outputs": [],
      "source": []
    }
  ],
  "metadata": {
    "colab": {
      "provenance": []
    },
    "kernelspec": {
      "display_name": "MGMT-4190",
      "language": "python",
      "name": "python3"
    },
    "language_info": {
      "codemirror_mode": {
        "name": "ipython",
        "version": 3
      },
      "file_extension": ".py",
      "mimetype": "text/x-python",
      "name": "python",
      "nbconvert_exporter": "python",
      "pygments_lexer": "ipython3",
      "version": "3.12.3"
    }
  },
  "nbformat": 4,
  "nbformat_minor": 0
}
