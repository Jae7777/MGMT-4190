{
 "cells": [
  {
   "cell_type": "code",
   "execution_count": 10,
   "metadata": {},
   "outputs": [
    {
     "name": "stdout",
     "output_type": "stream",
     "text": [
      "{'s1': ['4', '10', '7'], 's2': ['4', '8', '10'], 's3': ['1', '5', '3'], 's4': ['1', '2', '10'], 's5': ['1', '7', '4'], 's6': ['5', '3', '2'], 's7': ['7', '4', '3'], 's8': ['7', '8', '3'], 's9': ['6', '4', '1'], 's10': ['6', '4', '5'], 's11': ['6', '4', '3'], 's12': ['6', '4', '3'], 's13': ['6', '5', '7'], 's14': ['3', '7', '4'], 's15': ['3', '7', '4'], 's16': ['3', '7', '4'], 's17': ['3', '7', '4'], 's18': ['3', '5', '1'], 's19': ['3', '4', '1'], 's20': ['3', '4', '1'], 's21': ['3', '4', '10'], 's22': ['10', '8', '3'], 's23': ['10', '1', '3'], 's24': ['10', '8', '3'], 's25': ['10', '1', '3'], 's26': ['10', '3', '6'], 's27': ['10', '6', '4'], 's28': ['2', '1', '3'], 's29': ['2', '1', '3'], 's30': ['2', '1', '3']}\n"
     ]
    }
   ],
   "source": [
    "import csv\n",
    "data = {}\n",
    "\n",
    "with open('data.csv') as csvfile:\n",
    "  next(csvfile) # Skip header row\n",
    "  spamreader = csv.reader(csvfile)\n",
    "  for row in spamreader:\n",
    "    if row[1] == 'None':\n",
    "      continue\n",
    "    data[row[0]] = row[1:]\n",
    "print(data)\n",
    "  "
   ]
  },
  {
   "cell_type": "code",
   "execution_count": 17,
   "metadata": {},
   "outputs": [
    {
     "name": "stdout",
     "output_type": "stream",
     "text": [
      "Group assigned to Paper 4.0: ['s1', 's2', 's19', 's20']\n",
      "Group assigned to Paper 1.0: ['s3', 's4', 's5', 's25']\n",
      "Group assigned to Paper 5.0: ['s6', 's13', 's18', 's31']\n",
      "Group assigned to Paper 7.0: ['s7', 's8', 's26', 's27']\n",
      "Group assigned to Paper 6.0: ['s9', 's10', 's11', 's12']\n",
      "Group assigned to Paper 3.0: ['s14', 's15', 's16', 's17']\n",
      "Group assigned to Paper 10.0: ['s21', 's22', 's23', 's24']\n",
      "Group assigned to Paper 2.0: ['s28', 's29', 's30', 's32']\n"
     ]
    }
   ],
   "source": [
    "from collections import defaultdict, Counter\n",
    "import pandas as pd\n",
    "\n",
    "def create_optimized_groups(data):\n",
    "    # Initialize a set to track which papers have been assigned to a group\n",
    "    paper_assigned = set()\n",
    "    \n",
    "    # Initialize a dictionary to hold the groups\n",
    "    groups = defaultdict(list)\n",
    "    \n",
    "    # Count preferences for each paper\n",
    "    all_preferences = data[['First_Preference', 'Second_Preference', 'Third_Preference']].values.flatten()\n",
    "    paper_preferences = Counter(paper for paper in all_preferences if pd.notna(paper))\n",
    "    \n",
    "    # Sort papers by popularity (most preferred first)\n",
    "    sorted_papers = sorted(paper_preferences, key=paper_preferences.get, reverse=True)\n",
    "    \n",
    "    # Helper function to try adding a student to a group\n",
    "    def try_add_student_to_group(student, prefs):\n",
    "        for pref in prefs:\n",
    "            if pd.notna(pref) and len(groups[pref]) < 4:  # Check for valid preference and group capacity\n",
    "                groups[pref].append(student)\n",
    "                return True\n",
    "        return False\n",
    "\n",
    "    # Step 1: Assign students with preferences to groups\n",
    "    for _, row in data.iterrows():\n",
    "        student = row['Name']\n",
    "        prefs = [row['First_Preference'], row['Second_Preference'], row['Third_Preference']]\n",
    "        \n",
    "        # Attempt to assign the student based on their ranked preferences\n",
    "        if not try_add_student_to_group(student, prefs):\n",
    "            continue  # If no preferences are assignable, they will be handled in the next step\n",
    "\n",
    "    # Step 2: Assign students with no preferences to any available group\n",
    "    for _, row in data.iterrows():\n",
    "        student = row['Name']\n",
    "        prefs = [row['First_Preference'], row['Second_Preference'], row['Third_Preference']]\n",
    "        \n",
    "        # Check if the student was already assigned\n",
    "        assigned = any(student in group for group in groups.values())\n",
    "        \n",
    "        if not assigned:\n",
    "            # Assign to any group with space available\n",
    "            for paper in sorted_papers:\n",
    "                if len(groups[paper]) < 4:\n",
    "                    groups[paper].append(student)\n",
    "                    break\n",
    "\n",
    "    # Step 3: Mark papers as assigned if they have groups\n",
    "    for group in groups:\n",
    "        if len(groups[group]) > 0:\n",
    "            paper_assigned.add(group)\n",
    "    \n",
    "    return groups\n",
    "\n",
    "# Example usage:\n",
    "# Load the data (replace with your actual file path)\n",
    "data = pd.read_csv('data.csv')\n",
    "\n",
    "# Create optimized groups based on preferences\n",
    "optimized_groups = create_optimized_groups(data)\n",
    "\n",
    "# Display the optimized groups and their assigned papers\n",
    "for group, members in optimized_groups.items():\n",
    "    print(f\"Group assigned to Paper {group}: {members}\")\n"
   ]
  },
  {
   "cell_type": "code",
   "execution_count": null,
   "metadata": {},
   "outputs": [],
   "source": []
  }
 ],
 "metadata": {
  "kernelspec": {
   "display_name": "MGMT-4190",
   "language": "python",
   "name": "python3"
  },
  "language_info": {
   "codemirror_mode": {
    "name": "ipython",
    "version": 3
   },
   "file_extension": ".py",
   "mimetype": "text/x-python",
   "name": "python",
   "nbconvert_exporter": "python",
   "pygments_lexer": "ipython3",
   "version": "3.12.4"
  }
 },
 "nbformat": 4,
 "nbformat_minor": 2
}
