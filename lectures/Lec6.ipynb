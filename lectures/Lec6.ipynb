{
 "cells": [
  {
   "cell_type": "code",
   "execution_count": 76,
   "metadata": {},
   "outputs": [
    {
     "data": {
      "text/html": [
       "<div>\n",
       "<style scoped>\n",
       "    .dataframe tbody tr th:only-of-type {\n",
       "        vertical-align: middle;\n",
       "    }\n",
       "\n",
       "    .dataframe tbody tr th {\n",
       "        vertical-align: top;\n",
       "    }\n",
       "\n",
       "    .dataframe thead th {\n",
       "        text-align: right;\n",
       "    }\n",
       "</style>\n",
       "<table border=\"1\" class=\"dataframe\">\n",
       "  <thead>\n",
       "    <tr style=\"text-align: right;\">\n",
       "      <th></th>\n",
       "      <th>Name</th>\n",
       "      <th>Team</th>\n",
       "      <th>Number</th>\n",
       "      <th>Position</th>\n",
       "      <th>Age</th>\n",
       "      <th>Height</th>\n",
       "      <th>Weight</th>\n",
       "      <th>College</th>\n",
       "      <th>Salary</th>\n",
       "    </tr>\n",
       "  </thead>\n",
       "  <tbody>\n",
       "    <tr>\n",
       "      <th>0</th>\n",
       "      <td>Avery Bradley</td>\n",
       "      <td>Boston Celtics</td>\n",
       "      <td>0.0</td>\n",
       "      <td>PG</td>\n",
       "      <td>25.0</td>\n",
       "      <td>6-2</td>\n",
       "      <td>180.0</td>\n",
       "      <td>Texas</td>\n",
       "      <td>7730337.0</td>\n",
       "    </tr>\n",
       "    <tr>\n",
       "      <th>1</th>\n",
       "      <td>Jae Crowder</td>\n",
       "      <td>Boston Celtics</td>\n",
       "      <td>99.0</td>\n",
       "      <td>SF</td>\n",
       "      <td>25.0</td>\n",
       "      <td>6-6</td>\n",
       "      <td>235.0</td>\n",
       "      <td>Marquette</td>\n",
       "      <td>6796117.0</td>\n",
       "    </tr>\n",
       "    <tr>\n",
       "      <th>2</th>\n",
       "      <td>John Holland</td>\n",
       "      <td>Boston Celtics</td>\n",
       "      <td>30.0</td>\n",
       "      <td>SG</td>\n",
       "      <td>27.0</td>\n",
       "      <td>6-5</td>\n",
       "      <td>205.0</td>\n",
       "      <td>Boston University</td>\n",
       "      <td>NaN</td>\n",
       "    </tr>\n",
       "    <tr>\n",
       "      <th>3</th>\n",
       "      <td>R.J. Hunter</td>\n",
       "      <td>Boston Celtics</td>\n",
       "      <td>28.0</td>\n",
       "      <td>SG</td>\n",
       "      <td>22.0</td>\n",
       "      <td>6-5</td>\n",
       "      <td>185.0</td>\n",
       "      <td>Georgia State</td>\n",
       "      <td>1148640.0</td>\n",
       "    </tr>\n",
       "    <tr>\n",
       "      <th>4</th>\n",
       "      <td>Jonas Jerebko</td>\n",
       "      <td>Boston Celtics</td>\n",
       "      <td>8.0</td>\n",
       "      <td>PF</td>\n",
       "      <td>29.0</td>\n",
       "      <td>6-10</td>\n",
       "      <td>231.0</td>\n",
       "      <td>NaN</td>\n",
       "      <td>5000000.0</td>\n",
       "    </tr>\n",
       "  </tbody>\n",
       "</table>\n",
       "</div>"
      ],
      "text/plain": [
       "            Name            Team  Number Position   Age Height  Weight  \\\n",
       "0  Avery Bradley  Boston Celtics     0.0       PG  25.0    6-2   180.0   \n",
       "1    Jae Crowder  Boston Celtics    99.0       SF  25.0    6-6   235.0   \n",
       "2   John Holland  Boston Celtics    30.0       SG  27.0    6-5   205.0   \n",
       "3    R.J. Hunter  Boston Celtics    28.0       SG  22.0    6-5   185.0   \n",
       "4  Jonas Jerebko  Boston Celtics     8.0       PF  29.0   6-10   231.0   \n",
       "\n",
       "             College     Salary  \n",
       "0              Texas  7730337.0  \n",
       "1          Marquette  6796117.0  \n",
       "2  Boston University        NaN  \n",
       "3      Georgia State  1148640.0  \n",
       "4                NaN  5000000.0  "
      ]
     },
     "execution_count": 76,
     "metadata": {},
     "output_type": "execute_result"
    }
   ],
   "source": [
    "import pandas as pd\n",
    "\n",
    "nba_data = pd.read_csv('nba.csv', encoding='utf-8')\n",
    "\n",
    "nba_data.head()"
   ]
  },
  {
   "cell_type": "code",
   "execution_count": 74,
   "metadata": {},
   "outputs": [
    {
     "name": "stdout",
     "output_type": "stream",
     "text": [
      "num rows:  457\n",
      "num cols:  9\n"
     ]
    }
   ],
   "source": [
    "\n",
    "print('num rows: ', len(nba_data))\n",
    "print('num cols: ', len(nba_data.loc[0, :]))"
   ]
  },
  {
   "cell_type": "code",
   "execution_count": 62,
   "metadata": {},
   "outputs": [
    {
     "name": "stdout",
     "output_type": "stream",
     "text": [
      "['PG' 'SF' 'SG' 'PF' 'C']\n",
      "['PG' 'SF' 'SG' 'PF']\n",
      "5\n"
     ]
    }
   ],
   "source": [
    "# total number of unqiue positions\n",
    "print(nba_data['Position'].unique())\n",
    "print(nba_data['Position'].unique())\n",
    "print(len(nba_data['Position'].unique()))"
   ]
  },
  {
   "cell_type": "code",
   "execution_count": 89,
   "metadata": {},
   "outputs": [
    {
     "name": "stdout",
     "output_type": "stream",
     "text": [
      "Name        Jeff Withey\n",
      "Team          Utah Jazz\n",
      "Number             24.0\n",
      "Position              C\n",
      "Age                26.0\n",
      "Height              7-0\n",
      "Weight            231.0\n",
      "College          Kansas\n",
      "Salary         947276.0\n",
      "Name: 456, dtype: object\n",
      "            Name       Team  Number Position   Age Height  Weight College  \\\n",
      "456  Jeff Withey  Utah Jazz    24.0        C  26.0    7-0   231.0  Kansas   \n",
      "\n",
      "       Salary  \n",
      "456  947276.0  \n"
     ]
    }
   ],
   "source": [
    "# print last row\n",
    "print(nba_data.iloc[-1, :])\n",
    "# or\n",
    "print(nba_data.tail(1))"
   ]
  },
  {
   "cell_type": "code",
   "execution_count": 90,
   "metadata": {},
   "outputs": [
    {
     "name": "stdout",
     "output_type": "stream",
     "text": [
      "                       Name            Team  Number Position   Age Height  \\\n",
      "0             Avery Bradley  Boston Celtics     0.0       PG  25.0    6-2   \n",
      "1               Jae Crowder  Boston Celtics    99.0       SF  25.0    6-6   \n",
      "2              John Holland  Boston Celtics    30.0       SG  27.0    6-5   \n",
      "3               R.J. Hunter  Boston Celtics    28.0       SG  22.0    6-5   \n",
      "4             Jonas Jerebko  Boston Celtics     8.0       PF  29.0   6-10   \n",
      "5              Amir Johnson  Boston Celtics    90.0       PF  29.0    6-9   \n",
      "6             Jordan Mickey  Boston Celtics    55.0       PF  21.0    6-8   \n",
      "7              Kelly Olynyk  Boston Celtics    41.0        C  25.0    7-0   \n",
      "8              Terry Rozier  Boston Celtics    12.0       PG  22.0    6-2   \n",
      "9              Marcus Smart  Boston Celtics    36.0       PG  22.0    6-4   \n",
      "10          Jared Sullinger  Boston Celtics     7.0        C  24.0    6-9   \n",
      "11            Isaiah Thomas  Boston Celtics     4.0       PG  27.0    5-9   \n",
      "12              Evan Turner  Boston Celtics    11.0       SG  27.0    6-7   \n",
      "13              James Young  Boston Celtics    13.0       SG  20.0    6-6   \n",
      "14             Tyler Zeller  Boston Celtics    44.0        C  26.0    7-0   \n",
      "15         Bojan Bogdanovic   Brooklyn Nets    44.0       SG  27.0    6-8   \n",
      "16             Markel Brown   Brooklyn Nets    22.0       SG  24.0    6-3   \n",
      "17          Wayne Ellington   Brooklyn Nets    21.0       SG  28.0    6-4   \n",
      "18  Rondae Hollis-Jefferson   Brooklyn Nets    24.0       SG  21.0    6-7   \n",
      "19             Jarrett Jack   Brooklyn Nets     2.0       PG  32.0    6-3   \n",
      "\n",
      "    Weight            College      Salary  \n",
      "0    180.0              Texas   7730337.0  \n",
      "1    235.0          Marquette   6796117.0  \n",
      "2    205.0  Boston University         NaN  \n",
      "3    185.0      Georgia State   1148640.0  \n",
      "4    231.0                NaN   5000000.0  \n",
      "5    240.0                NaN  12000000.0  \n",
      "6    235.0                LSU   1170960.0  \n",
      "7    238.0            Gonzaga   2165160.0  \n",
      "8    190.0         Louisville   1824360.0  \n",
      "9    220.0     Oklahoma State   3431040.0  \n",
      "10   260.0         Ohio State   2569260.0  \n",
      "11   185.0         Washington   6912869.0  \n",
      "12   220.0         Ohio State   3425510.0  \n",
      "13   215.0           Kentucky   1749840.0  \n",
      "14   253.0     North Carolina   2616975.0  \n",
      "15   216.0                NaN   3425510.0  \n",
      "16   190.0     Oklahoma State    845059.0  \n",
      "17   200.0     North Carolina   1500000.0  \n",
      "18   220.0            Arizona   1335480.0  \n",
      "19   200.0       Georgia Tech   6300000.0  \n",
      "                       Name            Team  Number Position   Age Height  \\\n",
      "0             Avery Bradley  Boston Celtics     0.0       PG  25.0    6-2   \n",
      "1               Jae Crowder  Boston Celtics    99.0       SF  25.0    6-6   \n",
      "2              John Holland  Boston Celtics    30.0       SG  27.0    6-5   \n",
      "3               R.J. Hunter  Boston Celtics    28.0       SG  22.0    6-5   \n",
      "4             Jonas Jerebko  Boston Celtics     8.0       PF  29.0   6-10   \n",
      "5              Amir Johnson  Boston Celtics    90.0       PF  29.0    6-9   \n",
      "6             Jordan Mickey  Boston Celtics    55.0       PF  21.0    6-8   \n",
      "7              Kelly Olynyk  Boston Celtics    41.0        C  25.0    7-0   \n",
      "8              Terry Rozier  Boston Celtics    12.0       PG  22.0    6-2   \n",
      "9              Marcus Smart  Boston Celtics    36.0       PG  22.0    6-4   \n",
      "10          Jared Sullinger  Boston Celtics     7.0        C  24.0    6-9   \n",
      "11            Isaiah Thomas  Boston Celtics     4.0       PG  27.0    5-9   \n",
      "12              Evan Turner  Boston Celtics    11.0       SG  27.0    6-7   \n",
      "13              James Young  Boston Celtics    13.0       SG  20.0    6-6   \n",
      "14             Tyler Zeller  Boston Celtics    44.0        C  26.0    7-0   \n",
      "15         Bojan Bogdanovic   Brooklyn Nets    44.0       SG  27.0    6-8   \n",
      "16             Markel Brown   Brooklyn Nets    22.0       SG  24.0    6-3   \n",
      "17          Wayne Ellington   Brooklyn Nets    21.0       SG  28.0    6-4   \n",
      "18  Rondae Hollis-Jefferson   Brooklyn Nets    24.0       SG  21.0    6-7   \n",
      "19             Jarrett Jack   Brooklyn Nets     2.0       PG  32.0    6-3   \n",
      "\n",
      "    Weight            College      Salary  \n",
      "0    180.0              Texas   7730337.0  \n",
      "1    235.0          Marquette   6796117.0  \n",
      "2    205.0  Boston University         NaN  \n",
      "3    185.0      Georgia State   1148640.0  \n",
      "4    231.0                NaN   5000000.0  \n",
      "5    240.0                NaN  12000000.0  \n",
      "6    235.0                LSU   1170960.0  \n",
      "7    238.0            Gonzaga   2165160.0  \n",
      "8    190.0         Louisville   1824360.0  \n",
      "9    220.0     Oklahoma State   3431040.0  \n",
      "10   260.0         Ohio State   2569260.0  \n",
      "11   185.0         Washington   6912869.0  \n",
      "12   220.0         Ohio State   3425510.0  \n",
      "13   215.0           Kentucky   1749840.0  \n",
      "14   253.0     North Carolina   2616975.0  \n",
      "15   216.0                NaN   3425510.0  \n",
      "16   190.0     Oklahoma State    845059.0  \n",
      "17   200.0     North Carolina   1500000.0  \n",
      "18   220.0            Arizona   1335480.0  \n",
      "19   200.0       Georgia Tech   6300000.0  \n"
     ]
    }
   ],
   "source": [
    "# print top 20 rows\n",
    "print(nba_data.head(20))\n",
    "# or\n",
    "print(nba_data.iloc[:20, :])"
   ]
  },
  {
   "cell_type": "code",
   "execution_count": 91,
   "metadata": {},
   "outputs": [
    {
     "name": "stdout",
     "output_type": "stream",
     "text": [
      "0               Avery Bradley\n",
      "1                 Jae Crowder\n",
      "2                John Holland\n",
      "3                 R.J. Hunter\n",
      "4               Jonas Jerebko\n",
      "5                Amir Johnson\n",
      "6               Jordan Mickey\n",
      "7                Kelly Olynyk\n",
      "8                Terry Rozier\n",
      "9                Marcus Smart\n",
      "10            Jared Sullinger\n",
      "11              Isaiah Thomas\n",
      "12                Evan Turner\n",
      "13                James Young\n",
      "14               Tyler Zeller\n",
      "15           Bojan Bogdanovic\n",
      "16               Markel Brown\n",
      "17            Wayne Ellington\n",
      "18    Rondae Hollis-Jefferson\n",
      "19               Jarrett Jack\n",
      "20             Sergey Karasev\n",
      "Name: Name, dtype: object\n"
     ]
    }
   ],
   "source": [
    "# print only the values in the 'Name' column in the top 20 rows\n",
    "print(nba_data.loc[:20, 'Name'])"
   ]
  },
  {
   "cell_type": "code",
   "execution_count": 92,
   "metadata": {},
   "outputs": [
    {
     "name": "stdout",
     "output_type": "stream",
     "text": [
      "                       Name            College\n",
      "0             Avery Bradley              Texas\n",
      "1               Jae Crowder          Marquette\n",
      "2              John Holland  Boston University\n",
      "3               R.J. Hunter      Georgia State\n",
      "4             Jonas Jerebko                NaN\n",
      "5              Amir Johnson                NaN\n",
      "6             Jordan Mickey                LSU\n",
      "7              Kelly Olynyk            Gonzaga\n",
      "8              Terry Rozier         Louisville\n",
      "9              Marcus Smart     Oklahoma State\n",
      "10          Jared Sullinger         Ohio State\n",
      "11            Isaiah Thomas         Washington\n",
      "12              Evan Turner         Ohio State\n",
      "13              James Young           Kentucky\n",
      "14             Tyler Zeller     North Carolina\n",
      "15         Bojan Bogdanovic                NaN\n",
      "16             Markel Brown     Oklahoma State\n",
      "17          Wayne Ellington     North Carolina\n",
      "18  Rondae Hollis-Jefferson            Arizona\n",
      "19             Jarrett Jack       Georgia Tech\n",
      "20           Sergey Karasev                NaN\n"
     ]
    }
   ],
   "source": [
    "# print 'Name' and 'College' column in the top 20 rows\n",
    "print(nba_data.loc[:20, ['Name', 'College']])"
   ]
  },
  {
   "cell_type": "code",
   "execution_count": 97,
   "metadata": {},
   "outputs": [
    {
     "name": "stdout",
     "output_type": "stream",
     "text": [
      "Counter({nan: 84, 'Kentucky': 22, 'Duke': 20, 'Kansas': 18, 'North Carolina': 16, 'UCLA': 15, 'Arizona': 13, 'Florida': 10, 'Texas': 9, 'Syracuse': 8, 'Washington': 7, 'USC': 7, 'Connecticut': 7, 'LSU': 6, 'Georgia Tech': 6, 'Georgetown': 6, 'Wake Forest': 6, 'Michigan': 6, 'Michigan State': 6, 'Marquette': 5, 'Ohio State': 5, 'Stanford': 5, 'Wisconsin': 5, 'Oklahoma State': 4, 'UNLV': 4, 'Villanova': 4, 'Tennessee': 4, 'Indiana': 4, 'Louisville': 3, 'Texas A&M': 3, 'Missouri': 3, 'Utah': 3, \"St. John's\": 3, 'Maryland': 3, 'North Carolina State': 3, 'Creighton': 3, 'Arkansas': 3, 'Memphis': 3, 'Alabama': 3, 'Colorado': 3, 'Fresno State': 3, 'Nevada': 3, 'California': 3, 'Gonzaga': 2, 'Cincinnati': 2, 'Miami (FL)': 2, \"Saint Joseph's\": 2, 'Notre Dame': 2, 'Murray State': 2, 'Purdue': 2, 'Vanderbilt': 2, 'Washington State': 2, 'Arizona State': 2, 'UC Santa Barbara': 2, 'Oregon State': 2, 'New Mexico': 2, 'Oregon': 2, \"Saint Mary's\": 2, 'Boston College': 2, 'Virginia': 2, 'Western Kentucky': 2, 'Illinois': 2, 'Clemson': 2, 'Pittsburgh': 2, 'Virginia Commonwealth': 2, 'Dayton': 2, 'Butler': 2, 'Boston University': 1, 'Georgia State': 1, 'Saint Louis': 1, 'Wichita State': 1, 'Norfolk State': 1, 'Tennessee State': 1, 'Bowling Green': 1, 'Rider': 1, 'Belmont': 1, 'Davidson': 1, 'Oklahoma': 1, 'Wyoming': 1, 'Utah Valley': 1, 'Baylor': 1, 'Georgia': 1, 'Temple': 1, 'IUPUI': 1, 'Eastern Washington': 1, 'Western Michigan': 1, 'Northeastern': 1, 'Kansas State': 1, 'Charleston': 1, 'Blinn College': 1, 'Providence': 1, 'Detroit': 1, 'Rhode Island': 1, 'Cleveland State': 1, 'Iowa State': 1, 'Florida State': 1, 'Long Beach State': 1, 'Penn State': 1, 'San Diego State': 1, 'Western Carolina': 1, 'Houston': 1, 'Xavier': 1, 'Old Dominion': 1, 'Minnesota': 1, 'Louisiana Tech': 1, 'Bucknell': 1, 'Harvard': 1, 'Marshall': 1, 'Iowa': 1, 'St. Bonaventure': 1, 'Louisiana-Lafayette': 1, 'Colorado State': 1, 'Virginia Tech': 1, 'DePaul': 1, 'Morehead State': 1, 'Central Michigan': 1, 'Weber State': 1, 'Lehigh': 1, 'Westchester CC': 1})\n"
     ]
    }
   ],
   "source": [
    "from collections import Counter\n",
    "print(Counter(nba_data.loc[:, 'College']))"
   ]
  },
  {
   "cell_type": "code",
   "execution_count": 115,
   "metadata": {},
   "outputs": [
    {
     "name": "stdout",
     "output_type": "stream",
     "text": [
      "                   Name                    Team\n",
      "407         Ricky Rubio  Minnesota Timberwolves\n",
      "408        Damjan Rudez  Minnesota Timberwolves\n",
      "409          Greg Smith  Minnesota Timberwolves\n",
      "410  Karl-Anthony Towns  Minnesota Timberwolves\n",
      "411      Andrew Wiggins  Minnesota Timberwolves\n",
      "412        Steven Adams   Oklahoma City Thunder\n",
      "413       Nick Collison   Oklahoma City Thunder\n",
      "414        Kevin Durant   Oklahoma City Thunder\n",
      "415          Randy Foye   Oklahoma City Thunder\n",
      "416        Josh Huestis   Oklahoma City Thunder\n",
      "417         Serge Ibaka   Oklahoma City Thunder\n",
      "418         Enes Kanter   Oklahoma City Thunder\n",
      "419        Mitch McGary   Oklahoma City Thunder\n",
      "420       Nazr Mohammed   Oklahoma City Thunder\n",
      "421      Anthony Morrow   Oklahoma City Thunder\n",
      "422       Cameron Payne   Oklahoma City Thunder\n",
      "423      Andre Roberson   Oklahoma City Thunder\n",
      "424        Kyle Singler   Oklahoma City Thunder\n",
      "425        Dion Waiters   Oklahoma City Thunder\n",
      "426   Russell Westbrook   Oklahoma City Thunder\n",
      "427     Cliff Alexander  Portland Trail Blazers\n",
      "428     Al-Farouq Aminu  Portland Trail Blazers\n",
      "429     Pat Connaughton  Portland Trail Blazers\n",
      "430        Allen Crabbe  Portland Trail Blazers\n",
      "431            Ed Davis  Portland Trail Blazers\n",
      "432    Maurice Harkless  Portland Trail Blazers\n",
      "433    Gerald Henderson  Portland Trail Blazers\n",
      "434         Chris Kaman  Portland Trail Blazers\n",
      "435      Meyers Leonard  Portland Trail Blazers\n",
      "436      Damian Lillard  Portland Trail Blazers\n",
      "437       C.J. McCollum  Portland Trail Blazers\n",
      "438        Luis Montero  Portland Trail Blazers\n",
      "439       Mason Plumlee  Portland Trail Blazers\n",
      "440       Brian Roberts  Portland Trail Blazers\n",
      "441         Noah Vonleh  Portland Trail Blazers\n",
      "442       Trevor Booker               Utah Jazz\n",
      "443          Trey Burke               Utah Jazz\n",
      "444          Alec Burks               Utah Jazz\n",
      "445          Dante Exum               Utah Jazz\n",
      "446      Derrick Favors               Utah Jazz\n",
      "447         Rudy Gobert               Utah Jazz\n",
      "448      Gordon Hayward               Utah Jazz\n",
      "449         Rodney Hood               Utah Jazz\n",
      "450          Joe Ingles               Utah Jazz\n",
      "451       Chris Johnson               Utah Jazz\n",
      "452          Trey Lyles               Utah Jazz\n",
      "453        Shelvin Mack               Utah Jazz\n",
      "454           Raul Neto               Utah Jazz\n",
      "455        Tibor Pleiss               Utah Jazz\n",
      "456         Jeff Withey               Utah Jazz\n"
     ]
    }
   ],
   "source": [
    "# bottom 50 rows, Name and Tame values\n",
    "print(nba_data.loc[len(nba_data) - 50:, ['Name', 'Team']])"
   ]
  },
  {
   "cell_type": "code",
   "execution_count": 125,
   "metadata": {},
   "outputs": [
    {
     "name": "stdout",
     "output_type": "stream",
     "text": [
      "                        Name                  Team  Number Position   Age  \\\n",
      "0              Avery Bradley        Boston Celtics     0.0       PG  25.0   \n",
      "1                Jae Crowder        Boston Celtics    99.0       SF  25.0   \n",
      "2               John Holland        Boston Celtics    30.0       SG  27.0   \n",
      "3                R.J. Hunter        Boston Celtics    28.0       SG  22.0   \n",
      "4              Jonas Jerebko        Boston Celtics     8.0       PF  29.0   \n",
      "..                       ...                   ...     ...      ...   ...   \n",
      "95                Jeff Green  Los Angeles Clippers     8.0       SF  29.0   \n",
      "96             Blake Griffin  Los Angeles Clippers    32.0       PF  27.0   \n",
      "97            Wesley Johnson  Los Angeles Clippers    33.0       SF  28.0   \n",
      "98            DeAndre Jordan  Los Angeles Clippers     6.0        C  27.0   \n",
      "99  Luc Richard Mbah a Moute  Los Angeles Clippers    12.0       PF  29.0   \n",
      "\n",
      "   Height  Weight            College      Salary  \n",
      "0     6-2   180.0              Texas   7730337.0  \n",
      "1     6-6   235.0          Marquette   6796117.0  \n",
      "2     6-5   205.0  Boston University         NaN  \n",
      "3     6-5   185.0      Georgia State   1148640.0  \n",
      "4    6-10   231.0                NaN   5000000.0  \n",
      "..    ...     ...                ...         ...  \n",
      "95    6-9   235.0         Georgetown   9650000.0  \n",
      "96   6-10   251.0           Oklahoma  18907726.0  \n",
      "97    6-7   215.0           Syracuse   1100602.0  \n",
      "98   6-11   265.0          Texas A&M  19689000.0  \n",
      "99    6-8   230.0               UCLA    947276.0  \n",
      "\n",
      "[100 rows x 9 columns]\n",
      "              Name       Team  Number Position   Age Height  Weight   College  \\\n",
      "450     Joe Ingles  Utah Jazz     2.0       SF  28.0    6-8   226.0       NaN   \n",
      "451  Chris Johnson  Utah Jazz    23.0       SF  26.0    6-6   206.0    Dayton   \n",
      "452     Trey Lyles  Utah Jazz    41.0       PF  20.0   6-10   234.0  Kentucky   \n",
      "453   Shelvin Mack  Utah Jazz     8.0       PG  26.0    6-3   203.0    Butler   \n",
      "454      Raul Neto  Utah Jazz    25.0       PG  24.0    6-1   179.0       NaN   \n",
      "\n",
      "        Salary  \n",
      "450  2050000.0  \n",
      "451   981348.0  \n",
      "452  2239800.0  \n",
      "453  2433333.0  \n",
      "454   900000.0  \n"
     ]
    }
   ],
   "source": [
    "# create new dataframe ndf with only top-100 rows from nba_data\n",
    "ndf = pd.DataFrame(nba_data.loc[:99, :])\n",
    "print(ndf)\n",
    "\n",
    "# remove last row from nba_data\n",
    "nba_data.drop(nba_data.index[-1], inplace=True)\n",
    "print(nba_data.tail())"
   ]
  },
  {
   "cell_type": "code",
   "execution_count": 129,
   "metadata": {},
   "outputs": [
    {
     "name": "stdout",
     "output_type": "stream",
     "text": [
      "mean age: 26.942857142857143\n"
     ]
    }
   ],
   "source": [
    "# find the mean age of players\n",
    "print(f'mean age: {nba_data.loc[:, 'Age'].mean()}')"
   ]
  },
  {
   "cell_type": "code",
   "execution_count": 134,
   "metadata": {},
   "outputs": [
    {
     "name": "stdout",
     "output_type": "stream",
     "text": [
      "23       Brook Lopez\n",
      "38       Robin Lopez\n",
      "108    Anthony Brown\n",
      "239    Dwight Powell\n",
      "416     Josh Huestis\n",
      "Name: Name, dtype: object\n"
     ]
    }
   ],
   "source": [
    "# print players from Stanford\n",
    "print(nba_data.loc[nba_data['College'] == 'Stanford', 'Name'])"
   ]
  },
  {
   "cell_type": "code",
   "execution_count": 135,
   "metadata": {},
   "outputs": [
    {
     "name": "stdout",
     "output_type": "stream",
     "text": [
      "0      False\n",
      "1      False\n",
      "2      False\n",
      "3      False\n",
      "4      False\n",
      "       ...  \n",
      "450    False\n",
      "451    False\n",
      "452    False\n",
      "453    False\n",
      "454    False\n",
      "Name: College, Length: 455, dtype: bool\n"
     ]
    }
   ],
   "source": [
    "print(nba_data['College'] == 'Standford')"
   ]
  },
  {
   "cell_type": "code",
   "execution_count": 136,
   "metadata": {},
   "outputs": [
    {
     "name": "stdout",
     "output_type": "stream",
     "text": [
      "30             Arron Afflalo\n",
      "31              Lou Amundson\n",
      "32    Thanasis Antetokounmpo\n",
      "33           Carmelo Anthony\n",
      "34             Jose Calderon\n",
      "35          Cleanthony Early\n",
      "36         Langston Galloway\n",
      "37              Jerian Grant\n",
      "38               Robin Lopez\n",
      "39              Kyle O'Quinn\n",
      "40        Kristaps Porzingis\n",
      "41            Kevin Seraphin\n",
      "42              Lance Thomas\n",
      "43             Sasha Vujacic\n",
      "44          Derrick Williams\n",
      "45               Tony Wroten\n",
      "Name: Name, dtype: object\n"
     ]
    }
   ],
   "source": [
    "# name of players who play for the Knicks\n",
    "print(nba_data.loc[nba_data['Team'] == 'New York Knicks', 'Name'])"
   ]
  },
  {
   "cell_type": "code",
   "execution_count": null,
   "metadata": {},
   "outputs": [],
   "source": []
  }
 ],
 "metadata": {
  "kernelspec": {
   "display_name": "MGMT-4190",
   "language": "python",
   "name": "python3"
  },
  "language_info": {
   "codemirror_mode": {
    "name": "ipython",
    "version": 3
   },
   "file_extension": ".py",
   "mimetype": "text/x-python",
   "name": "python",
   "nbconvert_exporter": "python",
   "pygments_lexer": "ipython3",
   "version": "3.12.4"
  }
 },
 "nbformat": 4,
 "nbformat_minor": 2
}
