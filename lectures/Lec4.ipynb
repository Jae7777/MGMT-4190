{
 "cells": [
  {
   "cell_type": "code",
   "execution_count": 3,
   "metadata": {},
   "outputs": [
    {
     "name": "stdout",
     "output_type": "stream",
     "text": [
      "{'hello': 2, 'fine': 4}\n"
     ]
    }
   ],
   "source": [
    "keywords = [\n",
    "  'hello',\n",
    "  'I',\n",
    "  'am',\n",
    "  'fine',\n",
    "  'but',\n",
    "  'fine',\n",
    "  'is',\n",
    "  'fine',\n",
    "  'hello',\n",
    "  'to',\n",
    "  'you',\n",
    "  'fine',\n",
    "]\n",
    "\n",
    "d = {}\n",
    "\n",
    "for word in keywords:\n",
    "  if word in d:\n",
    "    d[word] += 1\n",
    "  else:\n",
    "    d[word] = 1\n",
    "\n",
    "k = list(d.keys())\n",
    "for word in k:\n",
    "  if d[word] == 1:\n",
    "    del d[word]\n",
    "  \n",
    "print(d)"
   ]
  },
  {
   "cell_type": "code",
   "execution_count": 27,
   "metadata": {},
   "outputs": [
    {
     "name": "stdout",
     "output_type": "stream",
     "text": [
      "{0: 0, 1: 1, 2: 4, 3: 9, 4: 16, 5: 25, 6: 36, 7: 49, 8: 64, 9: 81}\n",
      "6\n",
      "['a', 'i', 'n', 'e']\n",
      "mAchINElEArNINg\n",
      "[0, 1, 1, 2, 3]\n"
     ]
    }
   ],
   "source": [
    "# 1\n",
    "d = {x: x**2 for x in range(10)}\n",
    "print(d)\n",
    "\n",
    "# 2\n",
    "mult = lambda x, y: x * y\n",
    "print(mult(2, 3))\n",
    "\n",
    "# 3\n",
    "s = \"machinelearning\"\n",
    "d = {c: s.count(c) for c in s}\n",
    "k = list(d.keys())\n",
    "for c in k:\n",
    "  if d[c] == 1:\n",
    "    del d[c]\n",
    "print(list(d.keys()))\n",
    "\n",
    "# 4\n",
    "s2 = \"\"\n",
    "for i, c in enumerate(s):\n",
    "  if s.count(c) > 1:\n",
    "    s2 += c.upper()\n",
    "  else:\n",
    "    s2 += c\n",
    "print(s2)\n",
    "\n",
    "# 5\n",
    "def fib(n):\n",
    "  res = []\n",
    "  a, b = 0, 1\n",
    "  while n > 0:\n",
    "    res.append(a)\n",
    "    a, b = b, a + b\n",
    "    n -= 1\n",
    "  return res\n",
    "print(fib(5))"
   ]
  },
  {
   "cell_type": "code",
   "execution_count": 29,
   "metadata": {},
   "outputs": [
    {
     "name": "stdout",
     "output_type": "stream",
     "text": [
      "[1 2 3]\n"
     ]
    }
   ],
   "source": [
    "import numpy as np\n",
    "\n",
    "arr = np.array([1, 2, 3])\n",
    "print(arr)"
   ]
  },
  {
   "cell_type": "code",
   "execution_count": 43,
   "metadata": {},
   "outputs": [
    {
     "name": "stdout",
     "output_type": "stream",
     "text": [
      "[[11 13]\n",
      " [31 33]]\n"
     ]
    }
   ],
   "source": [
    "arr1 = np.array([\n",
    "  [11, 12, 13, 14],\n",
    "  [21, 22, 23, 24],\n",
    "  [31, 32, 33, 34],\n",
    "  [41, 42, 43, 44]\n",
    "])\n",
    "\n",
    "print(arr1[::2, ::2])"
   ]
  },
  {
   "cell_type": "code",
   "execution_count": null,
   "metadata": {},
   "outputs": [],
   "source": []
  }
 ],
 "metadata": {
  "kernelspec": {
   "display_name": "Python 3",
   "language": "python",
   "name": "python3"
  },
  "language_info": {
   "codemirror_mode": {
    "name": "ipython",
    "version": 3
   },
   "file_extension": ".py",
   "mimetype": "text/x-python",
   "name": "python",
   "nbconvert_exporter": "python",
   "pygments_lexer": "ipython3",
   "version": "3.12.4"
  }
 },
 "nbformat": 4,
 "nbformat_minor": 2
}
