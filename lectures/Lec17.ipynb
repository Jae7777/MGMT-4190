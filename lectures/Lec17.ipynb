{
 "cells": [
  {
   "cell_type": "code",
   "execution_count": null,
   "metadata": {},
   "outputs": [
    {
     "name": "stdout",
     "output_type": "stream",
     "text": [
      "hello\n",
      "world\n"
     ]
    }
   ],
   "source": [
    "multilineString = '''hello\n",
    "                  world'''\n",
    "print(multilineString)"
   ]
  },
  {
   "cell_type": "code",
   "execution_count": 4,
   "metadata": {},
   "outputs": [
    {
     "data": {
      "text/plain": [
       "['', 'this', 'is', 'machine', 'learning', '']"
      ]
     },
     "execution_count": 4,
     "metadata": {},
     "output_type": "execute_result"
    }
   ],
   "source": [
    "acc = '@this@is@machine@learning@'\n",
    "acc.split(\"@\")"
   ]
  },
  {
   "cell_type": "code",
   "execution_count": 6,
   "metadata": {},
   "outputs": [
    {
     "name": "stdout",
     "output_type": "stream",
     "text": [
      "THE QUICK RED FOX\n",
      "the quick red fox\n",
      "The Quick Red Fox\n",
      "The quick red fox\n",
      "ThE Quick rEd FoX\n"
     ]
    }
   ],
   "source": [
    "fox = 'tHe qUICK ReD fOx'\n",
    "\n",
    "print(fox.upper())\n",
    "\n",
    "print(fox.lower())\n",
    "\n",
    "print(fox.title())\n",
    "\n",
    "print(fox.capitalize())\n",
    "\n",
    "print(fox.swapcase())\n"
   ]
  },
  {
   "cell_type": "code",
   "execution_count": 8,
   "metadata": {},
   "outputs": [
    {
     "name": "stdout",
     "output_type": "stream",
     "text": [
      "this   is the content\n",
      "this   is the content     \n",
      "   this   is the content\n"
     ]
    }
   ],
   "source": [
    "ac = \"   this   is the content     \"\n",
    "print(ac.strip())\n",
    "print(ac.lstrip())\n",
    "print(ac.rstrip())"
   ]
  },
  {
   "cell_type": "code",
   "execution_count": 13,
   "metadata": {},
   "outputs": [
    {
     "name": "stdout",
     "output_type": "stream",
     "text": [
      "Machine Learning\n"
     ]
    }
   ],
   "source": [
    "str2 = \"#####@@@@@Machine Learning######\"\n",
    "print(str2.strip(\"#@\"))"
   ]
  },
  {
   "cell_type": "code",
   "execution_count": 14,
   "metadata": {},
   "outputs": [
    {
     "name": "stdout",
     "output_type": "stream",
     "text": [
      "435\n"
     ]
    }
   ],
   "source": [
    "num1 = '00000435'\n",
    "print(int(num1))"
   ]
  },
  {
   "cell_type": "code",
   "execution_count": 16,
   "metadata": {},
   "outputs": [
    {
     "data": {
      "text/plain": [
       "'0000000435'"
      ]
     },
     "execution_count": 16,
     "metadata": {},
     "output_type": "execute_result"
    }
   ],
   "source": [
    "num2 = '435' \n",
    "num2.zfill(10)"
   ]
  },
  {
   "cell_type": "code",
   "execution_count": 22,
   "metadata": {},
   "outputs": [
    {
     "name": "stdout",
     "output_type": "stream",
     "text": [
      "Yes\n",
      "this quick red fAx jumped Aver a lazy dAg\n",
      "th@s q@@ck r@d f@x j@mp@d @v@r @ l@zy d@g\n",
      "this quick red fox jumped over a lazy dog\n"
     ]
    }
   ],
   "source": [
    "str1 = 'this quick red fox jumped over a lazy dog'\n",
    "print(\"Yes\" if str1.find('fox') else \"No\")\n",
    "print(str1.replace(\"o\", 'A'))\n",
    "print(str1.replace(\"a\", \"@\").replace(\"e\", \"@\").replace(\"i\", \"@\").replace(\"o\", \"@\").replace(\"u\", \"@\"))\n",
    "print(str1.replace(\"aeiou\", \"@\"))"
   ]
  },
  {
   "cell_type": "code",
   "execution_count": 24,
   "metadata": {},
   "outputs": [
    {
     "name": "stdout",
     "output_type": "stream",
     "text": [
      "\n",
      "one\n",
      "two\n",
      "three\n",
      "\n"
     ]
    }
   ],
   "source": [
    "multiline = '''\n",
    "####one####\n",
    "###two#\n",
    "#######three#######\n",
    "'''\n",
    "print(multiline.replace(\"#\", ''))"
   ]
  },
  {
   "cell_type": "code",
   "execution_count": 31,
   "metadata": {},
   "outputs": [
    {
     "name": "stdout",
     "output_type": "stream",
     "text": [
      "13\n",
      "9\n",
      "4\n",
      "abcdefghi\n"
     ]
    }
   ],
   "source": [
    "str1 = '''\n",
    "abc\n",
    "def\n",
    "ghi\n",
    "'''\n",
    "\n",
    "print(len(str1))\n",
    "print(len(str1.replace('\\n', '')))\n",
    "print(len(str1.splitlines()))\n",
    "print(str1.replace(\"\\n\", \"\"))"
   ]
  },
  {
   "cell_type": "code",
   "execution_count": 34,
   "metadata": {},
   "outputs": [
    {
     "name": "stdout",
     "output_type": "stream",
     "text": [
      "a--b--c\n",
      "a--b--c\n"
     ]
    }
   ],
   "source": [
    "newstr = '''a\n",
    "b\n",
    "c'''\n",
    "\n",
    "print(newstr.replace(\"\\n\", '--'))\n",
    "print(\"--\".join(newstr.splitlines()))"
   ]
  },
  {
   "cell_type": "code",
   "execution_count": 35,
   "metadata": {},
   "outputs": [],
   "source": [
    "import re\n",
    "str1 = 'this is a sample string'\n",
    "\n",
    "# \\s -- any space\n",
    "# \\S -- any non-space\n",
    "# \\w -- any alphanumeric\n",
    "# \\W -- any non-alphanumeric\n",
    "# \\d -- any digit\n",
    "# \\D -- any non-digit\n",
    "# \\b -- word boundary\n",
    "# \\B -- non-word boundary\n",
    "# . -- any character except newline\n",
    "# ^ -- start of the string\n",
    "# $ -- end of the string\n",
    "# + -- one or more\n",
    "# * -- zero or more"
   ]
  },
  {
   "cell_type": "code",
   "execution_count": 40,
   "metadata": {},
   "outputs": [
    {
     "name": "stdout",
     "output_type": "stream",
     "text": [
      "the quick red fox jumped over a lazy dog \n"
     ]
    }
   ],
   "source": [
    "str1 = 'the@ quick$$$$$red %%%%fox%% jumped @over a lazy dog***&@!!'\n",
    "\n",
    "newstr = re.sub(r'\\W+', ' ', str1)\n",
    "print(newstr)"
   ]
  },
  {
   "cell_type": "code",
   "execution_count": null,
   "metadata": {},
   "outputs": [],
   "source": []
  }
 ],
 "metadata": {
  "kernelspec": {
   "display_name": "MGMT-4190",
   "language": "python",
   "name": "python3"
  },
  "language_info": {
   "codemirror_mode": {
    "name": "ipython",
    "version": 3
   },
   "file_extension": ".py",
   "mimetype": "text/x-python",
   "name": "python",
   "nbconvert_exporter": "python",
   "pygments_lexer": "ipython3",
   "version": "3.12.3"
  }
 },
 "nbformat": 4,
 "nbformat_minor": 2
}
