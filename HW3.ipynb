{
 "cells": [
  {
   "cell_type": "markdown",
   "id": "a9df1fab",
   "metadata": {
    "deletable": false,
    "editable": false,
    "nbgrader": {
     "cell_type": "markdown",
     "checksum": "9ec8988ea61a8b9699e1ce00645b1e01",
     "grade": false,
     "grade_id": "Instructions",
     "locked": true,
     "schema_version": 3,
     "solution": false,
     "task": false
    }
   },
   "source": [
    "## Assignment-3\n",
    "##### Total number of points: 60\n",
    "#### Due date: 9/30/2024 11:59 PM\n",
    "\n",
    "Before you submit this homework, make sure everything runs as expected. First, restart the kernel (in the menu, select Kernel → Restart) and then run all cells (in the menubar, select Cell → Run All). You can discuss with others regarding the homework but all work must be your own.\n",
    "\n",
    "Steps to evaluate your solutions:\n",
    "\n",
    "Step-1: Try on Colab or Anaconda (Windows: https://docs.anaconda.com/anaconda/install/windows/ ; Mac:https://docs.anaconda.com/anaconda/install/mac-os/ ; Linux: https://docs.anaconda.com/anaconda/install/linux/)\n",
    "\n",
    "Step-2: Open the Jupyter Notebook by first launching the anaconda software console\n",
    "\n",
    "Step-3: Open the homework's .ipynb file and write your solutions at the appropriate location \"# YOUR CODE HERE\"\n",
    "\n",
    "Step-4: You can restart the kernel and click run all (in the menubar, select Cell → Run All) on the center-right on the top of this window.\n",
    "\n",
    "Step-5: Now go to \"File\" then click on \"Download as\" then click on \"Notebook (.ipynb)\" Please DO NOT change the file name and just keep it as \".ipynb\"\n",
    "\n",
    "Step-6: Go to lms.rpi.edu and upload your homework at the appropriate link to submit this homework.\n",
    "\n",
    "\n",
    "#### Please note that for any question in this assignment you will receive points ONLY if your solution passes all the test cases including hidden testcases as well. So please make sure you try to think all possible scenarios before submitting your answers.  \n",
    "- Note that hidden tests are present to ensure you are not hardcoding. \n",
    "- If caught cheating: \n",
    "    - you will receive a score of 0 for the 1st violation. \n",
    "    - for repeated incidents, you will receive an automatic 'F' grade and will be reported to the dean of Lally School of Management.  "
   ]
  },
  {
   "cell_type": "markdown",
   "id": "493beeac",
   "metadata": {
    "deletable": false,
    "editable": false,
    "nbgrader": {
     "cell_type": "markdown",
     "checksum": "057f61d05fc33d2eb73217f3b4a34af7",
     "grade": false,
     "grade_id": "Data",
     "locked": true,
     "schema_version": 3,
     "solution": false,
     "task": false
    }
   },
   "source": [
    "Use the Stroke dataset from this url ('https://raw.githubusercontent.com/lmanikon/lmanikon.github.io/master/teaching/datasets/KaggleStroke.csv') and we will use the same dataset for the questions here below. "
   ]
  },
  {
   "cell_type": "markdown",
   "id": "da6acedf",
   "metadata": {
    "deletable": false,
    "editable": false,
    "nbgrader": {
     "cell_type": "markdown",
     "checksum": "3f30891fc6f4eaf101d8f6fe2b43d9a3",
     "grade": false,
     "grade_id": "Q1-desc",
     "locked": true,
     "schema_version": 3,
     "solution": false,
     "task": false
    }
   },
   "source": [
    "#### Q1. Metadata of the Data Frame. \n",
    "1. Import pandas package as `pd`.\n",
    "2. Read the file from the `url` and load the data into dataframe `df` with default index.\n",
    "3. Using `df` set the number of rows equal to the variable `rows` and the number of columns equal to the variable `cols`. \n",
    "\n"
   ]
  },
  {
   "cell_type": "code",
   "execution_count": 1,
   "id": "e07d9fbc",
   "metadata": {
    "deletable": false,
    "nbgrader": {
     "cell_type": "code",
     "checksum": "a25173556d0e2e396f996a09741a55d9",
     "grade": false,
     "grade_id": "Q1-sol",
     "locked": false,
     "schema_version": 3,
     "solution": true,
     "task": false
    },
    "tags": []
   },
   "outputs": [
    {
     "name": "stdout",
     "output_type": "stream",
     "text": [
      "         id  gender   age  hypertension  heart_disease ever_married  \\\n",
      "0      9046    Male  67.0             0              1          Yes   \n",
      "1     51676  Female  61.0             0              0          Yes   \n",
      "2     31112    Male  80.0             0              1          Yes   \n",
      "3     60182  Female  49.0             0              0          Yes   \n",
      "4      1665  Female  79.0             1              0          Yes   \n",
      "...     ...     ...   ...           ...            ...          ...   \n",
      "5105  18234  Female  80.0             1              0          Yes   \n",
      "5106  44873  Female  81.0             0              0          Yes   \n",
      "5107  19723  Female  35.0             0              0          Yes   \n",
      "5108  37544    Male  51.0             0              0          Yes   \n",
      "5109  44679  Female  44.0             0              0          Yes   \n",
      "\n",
      "          work_type Residence_type  avg_glucose_level   bmi   smoking_status  \\\n",
      "0           Private          Urban             228.69  36.6  formerly smoked   \n",
      "1     Self-employed          Rural             202.21   NaN     never smoked   \n",
      "2           Private          Rural             105.92  32.5     never smoked   \n",
      "3           Private          Urban             171.23  34.4           smokes   \n",
      "4     Self-employed          Rural             174.12  24.0     never smoked   \n",
      "...             ...            ...                ...   ...              ...   \n",
      "5105        Private          Urban              83.75   NaN     never smoked   \n",
      "5106  Self-employed          Urban             125.20  40.0     never smoked   \n",
      "5107  Self-employed          Rural              82.99  30.6     never smoked   \n",
      "5108        Private          Rural             166.29  25.6  formerly smoked   \n",
      "5109       Govt_job          Urban              85.28  26.2          Unknown   \n",
      "\n",
      "      stroke  \n",
      "0          1  \n",
      "1          1  \n",
      "2          1  \n",
      "3          1  \n",
      "4          1  \n",
      "...      ...  \n",
      "5105       0  \n",
      "5106       0  \n",
      "5107       0  \n",
      "5108       0  \n",
      "5109       0  \n",
      "\n",
      "[5110 rows x 12 columns]\n",
      "The dataset has 5110 rows and 12 columns\n"
     ]
    }
   ],
   "source": [
    "\n",
    "url='https://raw.githubusercontent.com/lmanikon/lmanikon.github.io/master/teaching/datasets/KaggleStroke.csv'\n",
    "\n",
    "# YOUR CODE HERE\n",
    "import pandas as pd\n",
    "df = pd.read_csv(url)\n",
    "rows = df.shape[0]\n",
    "cols = df.shape[1]\n",
    "print(df)\n",
    "print(f'The dataset has {rows} rows and {cols} columns')\n"
   ]
  },
  {
   "cell_type": "code",
   "execution_count": 2,
   "id": "4fe5c1dd",
   "metadata": {
    "deletable": false,
    "editable": false,
    "nbgrader": {
     "cell_type": "code",
     "checksum": "ef3d1c1104275d6a9a3b7cbf2793acd8",
     "grade": true,
     "grade_id": "1",
     "locked": true,
     "points": 3,
     "schema_version": 3,
     "solution": false,
     "task": false
    },
    "tags": []
   },
   "outputs": [],
   "source": [
    "#Test cell-1 (3 points)\n",
    "#DO NOT MODIFY/DELETE THIS CELL\n",
    "assert rows==5110\n",
    "assert df['age'].sum()==220888.0\n"
   ]
  },
  {
   "cell_type": "code",
   "execution_count": 3,
   "id": "cb9e4d1f",
   "metadata": {
    "deletable": false,
    "editable": false,
    "nbgrader": {
     "cell_type": "code",
     "checksum": "54835e6f0ed016e96254b3ffe13dba30",
     "grade": true,
     "grade_id": "2",
     "locked": true,
     "points": 2,
     "schema_version": 3,
     "solution": false,
     "task": false
    },
    "tags": []
   },
   "outputs": [],
   "source": [
    "#Test cell-2 (2 points)\n",
    "#DO NOT MODIFY/DELETE THIS CELL"
   ]
  },
  {
   "cell_type": "markdown",
   "id": "daf2bfa8",
   "metadata": {
    "deletable": false,
    "editable": false,
    "nbgrader": {
     "cell_type": "markdown",
     "checksum": "557b4fa7d01f75c86d33b3c872ea5ab4",
     "grade": false,
     "grade_id": "Q2-desc",
     "locked": true,
     "schema_version": 3,
     "solution": false,
     "task": false
    }
   },
   "source": [
    "#### Q2. Handling missing values in the Data Frame. \n",
    "\n",
    "Perform these tasks below in the same order as follows. \n",
    "1. Compute the total number of missing values in the entire dataframe `df` and assign that value to integer variable `totalnull`.\n",
    "2. Assign the integer variable `bminull` with the total number of missing values in the feature column `bmi`.\n",
    "3. Consider the dataframe `df` and delete ONLY the rows with null values in the feature column `bmi`. \n",
    "4. Now replace missing values in the dataframe with the corresponding column's previous value. For instance, row with index (i,j) will get values from the previous row with index (i-1,j).\n",
    "Please note that any error in this question may lead to errors in the following questions."
   ]
  },
  {
   "cell_type": "code",
   "execution_count": 4,
   "id": "c73d1f37",
   "metadata": {
    "deletable": false,
    "nbgrader": {
     "cell_type": "code",
     "checksum": "6f957f9f1301b0813503eabf2f4561bb",
     "grade": false,
     "grade_id": "Q2-sol",
     "locked": false,
     "schema_version": 3,
     "solution": true,
     "task": false
    },
    "tags": []
   },
   "outputs": [
    {
     "name": "stdout",
     "output_type": "stream",
     "text": [
      "The dataset has 201 missing values\n",
      "The column bmi has 201 missing values\n",
      "         id  gender   age  hypertension  heart_disease ever_married  \\\n",
      "0      9046    Male  67.0             0              1          Yes   \n",
      "2     31112    Male  80.0             0              1          Yes   \n",
      "3     60182  Female  49.0             0              0          Yes   \n",
      "4      1665  Female  79.0             1              0          Yes   \n",
      "5     56669    Male  81.0             0              0          Yes   \n",
      "...     ...     ...   ...           ...            ...          ...   \n",
      "5104  14180  Female  13.0             0              0           No   \n",
      "5106  44873  Female  81.0             0              0          Yes   \n",
      "5107  19723  Female  35.0             0              0          Yes   \n",
      "5108  37544    Male  51.0             0              0          Yes   \n",
      "5109  44679  Female  44.0             0              0          Yes   \n",
      "\n",
      "          work_type Residence_type  avg_glucose_level   bmi   smoking_status  \\\n",
      "0           Private          Urban             228.69  36.6  formerly smoked   \n",
      "2           Private          Rural             105.92  32.5     never smoked   \n",
      "3           Private          Urban             171.23  34.4           smokes   \n",
      "4     Self-employed          Rural             174.12  24.0     never smoked   \n",
      "5           Private          Urban             186.21  29.0  formerly smoked   \n",
      "...             ...            ...                ...   ...              ...   \n",
      "5104       children          Rural             103.08  18.6          Unknown   \n",
      "5106  Self-employed          Urban             125.20  40.0     never smoked   \n",
      "5107  Self-employed          Rural              82.99  30.6     never smoked   \n",
      "5108        Private          Rural             166.29  25.6  formerly smoked   \n",
      "5109       Govt_job          Urban              85.28  26.2          Unknown   \n",
      "\n",
      "      stroke  \n",
      "0          1  \n",
      "2          1  \n",
      "3          1  \n",
      "4          1  \n",
      "5          1  \n",
      "...      ...  \n",
      "5104       0  \n",
      "5106       0  \n",
      "5107       0  \n",
      "5108       0  \n",
      "5109       0  \n",
      "\n",
      "[4909 rows x 12 columns]\n"
     ]
    },
    {
     "name": "stderr",
     "output_type": "stream",
     "text": [
      "C:\\Users\\Justin\\AppData\\Local\\Temp\\ipykernel_100\\4019324069.py:5: FutureWarning: DataFrame.fillna with 'method' is deprecated and will raise in a future version. Use obj.ffill() or obj.bfill() instead.\n",
      "  df.fillna(method='ffill', inplace=True)\n"
     ]
    }
   ],
   "source": [
    "\n",
    "# YOUR CODE HERE\n",
    "totalnull = df.isnull().sum().sum()\n",
    "bminull = df['bmi'].isnull().sum()\n",
    "df = df.drop(df[df['bmi'].isnull()].index)\n",
    "df.fillna(method='ffill', inplace=True)\n",
    "\n",
    "print(f'The dataset has {totalnull} missing values')\n",
    "print(f'The column bmi has {bminull} missing values')\n",
    "print(df)"
   ]
  },
  {
   "cell_type": "code",
   "execution_count": 5,
   "id": "bc4082a1",
   "metadata": {
    "deletable": false,
    "editable": false,
    "nbgrader": {
     "cell_type": "code",
     "checksum": "45dc671d399102ec125d0c380cf51376",
     "grade": true,
     "grade_id": "3",
     "locked": true,
     "points": 5,
     "schema_version": 3,
     "solution": false,
     "task": false
    },
    "tags": []
   },
   "outputs": [],
   "source": [
    "#Test cell-3 (5 points)\n",
    "#DO NOT MODIFY/DELETE THIS CELL\n",
    "assert totalnull==201\n",
    "assert df.isnull().values.sum()==0\n",
    "assert df['bmi'].sum()==141836.9\n",
    "assert len(df) == 4909"
   ]
  },
  {
   "cell_type": "code",
   "execution_count": 6,
   "id": "fe47133e",
   "metadata": {
    "deletable": false,
    "editable": false,
    "nbgrader": {
     "cell_type": "code",
     "checksum": "778910a25e0c056786e8cd6de63fe219",
     "grade": true,
     "grade_id": "4",
     "locked": true,
     "points": 5,
     "schema_version": 3,
     "solution": false,
     "task": false
    },
    "tags": []
   },
   "outputs": [],
   "source": [
    "#Test cell-4 (5 points)\n",
    "#DO NOT MODIFY/DELETE THIS CELL"
   ]
  },
  {
   "cell_type": "markdown",
   "id": "5d18a55f",
   "metadata": {
    "deletable": false,
    "editable": false,
    "nbgrader": {
     "cell_type": "markdown",
     "checksum": "807a82008d050df7aad4cb4c95a80d45",
     "grade": false,
     "grade_id": "Q3-desc",
     "locked": true,
     "schema_version": 3,
     "solution": false,
     "task": false
    }
   },
   "source": [
    "#### Q3. Understanding data\n",
    "\n",
    "1. Assign the integer variable `totals` with the total number of individuals who got a stroke. Please note that is the value of `stroke` column is 1, the corresponding individual got a stroke. Otherwise it should be 0. \n",
    "2. Considering the `Residence_type` column, compute the total number of `Rural` residents who got a stroke and total number of `Urban` residents who got a stroke and save these values in the variables `rurals` and `urbans` respectively. \n",
    "3. Compute the total number of people categorized as `Male` who got a stroke and `Female` who got a stroke and assign these values to integer variables `males` and `females` respectively. \n",
    "4. Compute the total number of people categorized as `Female` who `never smoked` but got a stroke. Assign this value to integer variable `females_nsmoke`.\n",
    "5. Compute the total number of people categorized as `Female` who `formerly smoked` or `smokes` currently but never got a stroke. Assign this value to integer variable `females_smoke`.\n"
   ]
  },
  {
   "cell_type": "code",
   "execution_count": 7,
   "id": "afa38a22",
   "metadata": {
    "deletable": false,
    "nbgrader": {
     "cell_type": "code",
     "checksum": "97f2f63f0054d041bd3d79201d1db9e9",
     "grade": false,
     "grade_id": "Q3-sol",
     "locked": false,
     "schema_version": 3,
     "solution": true,
     "task": false
    },
    "tags": []
   },
   "outputs": [],
   "source": [
    "\n",
    "# YOUR CODE HERE\n",
    "totals = (df['stroke'] == 1).sum()\n",
    "stroke_residents = df['Residence_type'][df['stroke'] == 1].value_counts()\n",
    "rurals = stroke_residents['Rural']\n",
    "urbans = stroke_residents['Urban']\n",
    "stroke_gender = df['gender'][df['stroke'] == 1].value_counts()\n",
    "males = stroke_gender['Male']\n",
    "females = stroke_gender['Female']\n",
    "females_nsmoke = df[(df['gender'] == 'Female') & (df['smoking_status'] == 'never smoked') & (df['stroke'] == 1)].shape[0]\n",
    "females_smoke = df[(df['gender'] == 'Female') & ((df['smoking_status'] == 'formerly smoked') | (df['smoking_status'] == 'smokes')) & (df['stroke'] == 0)].shape[0]\n",
    "\n",
    "# print(f'The dataset has {totals} stroke cases')\n",
    "# print(f'The stroke cases are distributed as follows:')\n",
    "# print(f'The number of stroke cases in rural areas is {rurals}')\n",
    "# print(f'The number of stroke cases in urban areas is {urbans}')\n",
    "# print(stroke_gender)\n",
    "# print(females_nsmoke)\n",
    "# print(females_smoke)\n"
   ]
  },
  {
   "cell_type": "code",
   "execution_count": 8,
   "id": "12d92a91",
   "metadata": {
    "deletable": false,
    "editable": false,
    "nbgrader": {
     "cell_type": "code",
     "checksum": "9b1100438a53ea826d0843c1f9df25e5",
     "grade": true,
     "grade_id": "5",
     "locked": true,
     "points": 5,
     "schema_version": 3,
     "solution": false,
     "task": false
    },
    "tags": []
   },
   "outputs": [],
   "source": [
    "#Test cell-5 (5 points)\n",
    "#DO NOT MODIFY/DELETE THIS CELL\n",
    "assert rurals==100\n",
    "assert males==89\n",
    "assert females_nsmoke==59"
   ]
  },
  {
   "cell_type": "code",
   "execution_count": 9,
   "id": "961d2b96",
   "metadata": {
    "deletable": false,
    "editable": false,
    "nbgrader": {
     "cell_type": "code",
     "checksum": "8532d98816f7bdcdb31c75fa500af263",
     "grade": true,
     "grade_id": "6",
     "locked": true,
     "points": 5,
     "schema_version": 3,
     "solution": false,
     "task": false
    },
    "tags": []
   },
   "outputs": [],
   "source": [
    "#Test cell-6 (5 points)\n",
    "#DO NOT MODIFY/DELETE THIS CELL"
   ]
  },
  {
   "cell_type": "markdown",
   "id": "4ffc1d0f",
   "metadata": {
    "deletable": false,
    "editable": false,
    "nbgrader": {
     "cell_type": "markdown",
     "checksum": "39249d0c3ef9ce2f9be06bbb59f0d61b",
     "grade": false,
     "grade_id": "Q4-desc",
     "locked": true,
     "schema_version": 3,
     "solution": false,
     "task": false
    }
   },
   "source": [
    "#### Q4. Data Manipulation -- you will be changing the dataframe `df` while performing the below tasks\n",
    "\n",
    "1. Delete feature column `id`.\n",
    "2. Data encoding -- Consider the `smoking_status` column and convert values `formerly smoked` and `smokes` to 1. Convert value `never smoked` and `Unknown` to 0.\n"
   ]
  },
  {
   "cell_type": "code",
   "execution_count": 10,
   "id": "b393b0ab",
   "metadata": {
    "deletable": false,
    "nbgrader": {
     "cell_type": "code",
     "checksum": "8b90b4a312c3a297fcd5ebbb43e43422",
     "grade": false,
     "grade_id": "Q4-sol",
     "locked": false,
     "schema_version": 3,
     "solution": true,
     "task": false
    },
    "tags": []
   },
   "outputs": [
    {
     "name": "stdout",
     "output_type": "stream",
     "text": [
      "      gender   age  hypertension  heart_disease ever_married      work_type  \\\n",
      "0       Male  67.0             0              1          Yes        Private   \n",
      "2       Male  80.0             0              1          Yes        Private   \n",
      "3     Female  49.0             0              0          Yes        Private   \n",
      "4     Female  79.0             1              0          Yes  Self-employed   \n",
      "5       Male  81.0             0              0          Yes        Private   \n",
      "...      ...   ...           ...            ...          ...            ...   \n",
      "5104  Female  13.0             0              0           No       children   \n",
      "5106  Female  81.0             0              0          Yes  Self-employed   \n",
      "5107  Female  35.0             0              0          Yes  Self-employed   \n",
      "5108    Male  51.0             0              0          Yes        Private   \n",
      "5109  Female  44.0             0              0          Yes       Govt_job   \n",
      "\n",
      "     Residence_type  avg_glucose_level   bmi  smoking_status  stroke  \n",
      "0             Urban             228.69  36.6               1       1  \n",
      "2             Rural             105.92  32.5               0       1  \n",
      "3             Urban             171.23  34.4               1       1  \n",
      "4             Rural             174.12  24.0               0       1  \n",
      "5             Urban             186.21  29.0               1       1  \n",
      "...             ...                ...   ...             ...     ...  \n",
      "5104          Rural             103.08  18.6               0       0  \n",
      "5106          Urban             125.20  40.0               0       0  \n",
      "5107          Rural              82.99  30.6               0       0  \n",
      "5108          Rural             166.29  25.6               1       0  \n",
      "5109          Urban              85.28  26.2               0       0  \n",
      "\n",
      "[4909 rows x 11 columns]\n"
     ]
    }
   ],
   "source": [
    "# YOUR CODE HERE\n",
    "df = df.drop(columns=['id'])\n",
    "df['smoking_status'] = df['smoking_status'].map({'never smoked': 0, 'Unknown': 0, 'formerly smoked': 1, 'smokes': 1})\n",
    "\n",
    "print(df)"
   ]
  },
  {
   "cell_type": "code",
   "execution_count": 11,
   "id": "ac0ceeee",
   "metadata": {
    "deletable": false,
    "editable": false,
    "nbgrader": {
     "cell_type": "code",
     "checksum": "e2f10d4134d54d7c0e59a906c17d7857",
     "grade": true,
     "grade_id": "7",
     "locked": true,
     "points": 3,
     "schema_version": 3,
     "solution": false,
     "task": false
    },
    "tags": []
   },
   "outputs": [],
   "source": [
    "#Test cell-7 (5 points)\n",
    "#DO NOT MODIFY/DELETE THIS CELL\n",
    "assert list(df.columns)==['gender', 'age', 'hypertension', 'heart_disease', 'ever_married', 'work_type', 'Residence_type', 'avg_glucose_level', 'bmi', 'smoking_status', 'stroke']\n",
    "assert round(df['smoking_status'].mean(),2)==0.32"
   ]
  },
  {
   "cell_type": "code",
   "execution_count": 12,
   "id": "08623f4d",
   "metadata": {
    "deletable": false,
    "editable": false,
    "nbgrader": {
     "cell_type": "code",
     "checksum": "210ecb8981de8f3b417baa327465f8ee",
     "grade": true,
     "grade_id": "8",
     "locked": true,
     "points": 2,
     "schema_version": 3,
     "solution": false,
     "task": false
    }
   },
   "outputs": [],
   "source": [
    "#Test cell-8 (5 points)\n",
    "#DO NOT MODIFY/DELETE THIS CELL"
   ]
  },
  {
   "cell_type": "markdown",
   "id": "2ccf8d30",
   "metadata": {
    "deletable": false,
    "editable": false,
    "nbgrader": {
     "cell_type": "markdown",
     "checksum": "179f2b5c4fd4fb113f5610fb87d026c6",
     "grade": false,
     "grade_id": "Q5-desc",
     "locked": true,
     "schema_version": 3,
     "solution": false,
     "task": false
    }
   },
   "source": [
    "#### Q5. Data Sampling -- Column-wise. \n",
    "\n",
    "We will continue to use the modified dataframe `df` in the previous question. \n",
    "\n",
    "1. Sample the data based on the residence type. \n",
    "2. Create a sub dataframe `df_urban` where, all the rows corresponding to `Residence_type` are `Urban`. \n",
    "3. Create another sub dataframe `df_rural` where, all the rows corresponding to `Residence_type` are `Rural`. \n",
    "4. Drop the index to reset it to default index in both `df_urban` and `df_rural`. \n",
    "5. Delete the column `Residence_type` from both the sub dataframes `df_urban` and `df_rural`. "
   ]
  },
  {
   "cell_type": "code",
   "execution_count": 13,
   "id": "a583ff95",
   "metadata": {
    "deletable": false,
    "nbgrader": {
     "cell_type": "code",
     "checksum": "236620d0f2ee444b6d42b2d9d91356cc",
     "grade": false,
     "grade_id": "Q5-sol",
     "locked": false,
     "schema_version": 3,
     "solution": true,
     "task": false
    }
   },
   "outputs": [
    {
     "name": "stdout",
     "output_type": "stream",
     "text": [
      "urban: (2490, 10)\n",
      "rural: (2419, 10)\n"
     ]
    }
   ],
   "source": [
    "# YOUR CODE HERE\n",
    "df_urban = df[df['Residence_type'] == 'Urban']\n",
    "df_rural = df[df['Residence_type'] == 'Rural']\n",
    "df_urban.reset_index(drop=True, inplace=True)\n",
    "df_rural.reset_index(drop=True, inplace=True)\n",
    "df_urban = df_urban.drop(columns=['Residence_type'])\n",
    "df_rural = df_rural.drop(columns=['Residence_type'])\n",
    "print(f\"urban: {df_urban.shape}\")\n",
    "print(f\"rural: {df_rural.shape}\")\n"
   ]
  },
  {
   "cell_type": "code",
   "execution_count": 14,
   "id": "5ec73956",
   "metadata": {
    "deletable": false,
    "editable": false,
    "nbgrader": {
     "cell_type": "code",
     "checksum": "a2dedf7f6c4b86896fd50bd4a6ea657c",
     "grade": true,
     "grade_id": "9",
     "locked": true,
     "points": 6,
     "schema_version": 3,
     "solution": false,
     "task": false
    }
   },
   "outputs": [],
   "source": [
    "#Test cell-9 (6 points)\n",
    "#DO NOT MODIFY/DELETE THIS CELL\n",
    "assert len(df_urban)==2490\n",
    "assert df_urban.columns.tolist()==['gender', 'age', 'hypertension', 'heart_disease', 'ever_married', 'work_type', 'avg_glucose_level', 'bmi', 'smoking_status', 'stroke']\n",
    "assert df_urban['stroke'].sum()==109"
   ]
  },
  {
   "cell_type": "code",
   "execution_count": 15,
   "id": "8ae7390e",
   "metadata": {
    "deletable": false,
    "editable": false,
    "nbgrader": {
     "cell_type": "code",
     "checksum": "d7c037934b22f793b694894b63d9a5b8",
     "grade": true,
     "grade_id": "10",
     "locked": true,
     "points": 4,
     "schema_version": 3,
     "solution": false,
     "task": false
    }
   },
   "outputs": [],
   "source": [
    "#Test cell-10 (4 points)\n",
    "#DO NOT MODIFY/DELETE THIS CELL"
   ]
  },
  {
   "cell_type": "markdown",
   "id": "75318202",
   "metadata": {
    "deletable": false,
    "editable": false,
    "nbgrader": {
     "cell_type": "markdown",
     "checksum": "ed5498be88b48b298dde80765d1f6713",
     "grade": false,
     "grade_id": "Q6-desc",
     "locked": true,
     "schema_version": 3,
     "solution": false,
     "task": false
    }
   },
   "source": [
    "#### Q6. Data Sampling -- Generating random data sample. \n",
    "\n",
    "We will continue to use the modified dataframe `df` in the previous question. \n",
    "\n",
    "1. Reset the index of `df` with parameter `drop` as True. \n",
    "2. Generate a random sample of 20 data points saved as `r` chosen randomly from the dataframe `df` and save it in a new dataframe `ndf`. \n",
    "3. Get the index of this new dataframe `ndf` without resetting it to the default index and save it as `ndfindex`.\n",
    "4. Assign the value of this variance of index `ndfindex` to a variable `variance_ndfindex`."
   ]
  },
  {
   "cell_type": "code",
   "execution_count": 16,
   "id": "c4b600a6",
   "metadata": {
    "deletable": false,
    "nbgrader": {
     "cell_type": "code",
     "checksum": "3e398caf2cd982113bf5102e6c889335",
     "grade": false,
     "grade_id": "Q6-sol",
     "locked": false,
     "schema_version": 3,
     "solution": true,
     "task": false
    }
   },
   "outputs": [
    {
     "name": "stdout",
     "output_type": "stream",
     "text": [
      "Index([3147, 4889, 2353, 1870, 1117, 4420, 4748, 1112, 2411, 4644, 3805, 2625,\n",
      "       2242, 3918, 2579,  437, 4276, 1734, 3369,  254],\n",
      "      dtype='int64')\n"
     ]
    }
   ],
   "source": [
    "\n",
    "# YOUR CODE HERE\n",
    "import numpy as np\n",
    "\n",
    "df.reset_index(drop=True, inplace=True)\n",
    "r = df.sample(n=20)\n",
    "ndf = r.copy()\n",
    "ndfindex = ndf.index\n",
    "variance_ndfindex = np.var(ndfindex.tolist())\n",
    "print(ndfindex)\n",
    "\n"
   ]
  },
  {
   "cell_type": "code",
   "execution_count": 17,
   "id": "2fbd9882",
   "metadata": {
    "deletable": false,
    "editable": false,
    "nbgrader": {
     "cell_type": "code",
     "checksum": "73517cb81f3083ebda85c351fc354217",
     "grade": true,
     "grade_id": "11",
     "locked": true,
     "points": 4,
     "schema_version": 3,
     "solution": false,
     "task": false
    }
   },
   "outputs": [],
   "source": [
    "#Test cell-11 (4 points)\n",
    "#DO NOT MODIFY/DELETE THIS CELL\n",
    "assert len(r)==20\n",
    "assert len(ndfindex)==20"
   ]
  },
  {
   "cell_type": "code",
   "execution_count": 18,
   "id": "8cf56a85",
   "metadata": {
    "deletable": false,
    "editable": false,
    "nbgrader": {
     "cell_type": "code",
     "checksum": "53c8aaf6ea9491f27f9fdfd3e6a19f18",
     "grade": true,
     "grade_id": "12",
     "locked": true,
     "points": 1,
     "schema_version": 3,
     "solution": false,
     "task": false
    }
   },
   "outputs": [],
   "source": [
    "#Test cell-12 (1 point)\n",
    "#DO NOT MODIFY/DELETE THIS CELL"
   ]
  },
  {
   "cell_type": "markdown",
   "id": "e04accb1",
   "metadata": {
    "deletable": false,
    "editable": false,
    "nbgrader": {
     "cell_type": "markdown",
     "checksum": "8dc22fdf28d26a146da9f5f98a167fcb",
     "grade": false,
     "grade_id": "Q7-desc",
     "locked": true,
     "schema_version": 3,
     "solution": false,
     "task": false
    }
   },
   "source": [
    "#### Q7. Attribute transformation -- categorization \n",
    "\n",
    "We will continue to use the dataframe `df`. \n",
    "\n",
    "1. Consider the column `bmi` and using the values in these columns, create a categorical column `bmiCat` as follows: \n",
    "    - According to CDC, BMI under 18.5 is described as `Underweight`\n",
    "    - between 18.5 and 24.9 is described as the `Healthy`\n",
    "    - above 25 is described as `Overweight`\n",
    "2. Compute the total number of `healthy` people who got a stroke and save it as a variable `bmis`"
   ]
  },
  {
   "cell_type": "code",
   "execution_count": 19,
   "id": "99392800",
   "metadata": {
    "deletable": false,
    "nbgrader": {
     "cell_type": "code",
     "checksum": "d738cc2c1124b90fd4b9b7e88c6479f0",
     "grade": false,
     "grade_id": "Q7-sol",
     "locked": false,
     "schema_version": 3,
     "solution": true,
     "task": false
    }
   },
   "outputs": [
    {
     "name": "stdout",
     "output_type": "stream",
     "text": [
      "35\n",
      "bmiCat\n",
      "Overweight     3329\n",
      "Healthy        1243\n",
      "Underweight     337\n",
      "Name: count, dtype: int64\n"
     ]
    }
   ],
   "source": [
    "# YOUR CODE HERE\n",
    "df['bmiCat'] = df['bmi'].apply(lambda x: 'Underweight' if x < 18.5 else ('Healthy' if (x >= 18.5 and x < 25) else 'Overweight'))\n",
    "bmis = df[(df['bmiCat'] == 'Healthy') & (df['stroke'] == 1)].shape[0]\n",
    "print(bmis)\n",
    "print(df['bmiCat'].value_counts())"
   ]
  },
  {
   "cell_type": "code",
   "execution_count": 20,
   "id": "238e0c5c",
   "metadata": {
    "deletable": false,
    "editable": false,
    "nbgrader": {
     "cell_type": "code",
     "checksum": "30f7ef0dfe6a11f89f954823cfc9501f",
     "grade": true,
     "grade_id": "13",
     "locked": true,
     "points": 3,
     "schema_version": 3,
     "solution": false,
     "task": false
    }
   },
   "outputs": [
    {
     "ename": "AssertionError",
     "evalue": "",
     "output_type": "error",
     "traceback": [
      "\u001b[1;31m---------------------------------------------------------------------------\u001b[0m",
      "\u001b[1;31mAssertionError\u001b[0m                            Traceback (most recent call last)",
      "Cell \u001b[1;32mIn[20], line 4\u001b[0m\n\u001b[0;32m      1\u001b[0m \u001b[38;5;66;03m#Test cell-13 (3 points)\u001b[39;00m\n\u001b[0;32m      2\u001b[0m \u001b[38;5;66;03m#DO NOT MODIFY/DELETE THIS CELL\u001b[39;00m\n\u001b[0;32m      3\u001b[0m \u001b[38;5;28;01massert\u001b[39;00m bmis\u001b[38;5;241m==\u001b[39m\u001b[38;5;241m35\u001b[39m\n\u001b[1;32m----> 4\u001b[0m \u001b[38;5;28;01massert\u001b[39;00m df[\u001b[38;5;124m'\u001b[39m\u001b[38;5;124mbmiCat\u001b[39m\u001b[38;5;124m'\u001b[39m]\u001b[38;5;241m.\u001b[39mvalue_counts()[\u001b[38;5;124m'\u001b[39m\u001b[38;5;124mHealthy\u001b[39m\u001b[38;5;124m'\u001b[39m]\u001b[38;5;241m==\u001b[39m\u001b[38;5;241m1231\u001b[39m\n\u001b[0;32m      5\u001b[0m \u001b[38;5;28;01massert\u001b[39;00m \u001b[38;5;28mlist\u001b[39m(df[\u001b[38;5;124m'\u001b[39m\u001b[38;5;124mbmiCat\u001b[39m\u001b[38;5;124m'\u001b[39m]\u001b[38;5;241m.\u001b[39munique())\u001b[38;5;241m==\u001b[39m[\u001b[38;5;124m'\u001b[39m\u001b[38;5;124mOverweight\u001b[39m\u001b[38;5;124m'\u001b[39m, \u001b[38;5;124m'\u001b[39m\u001b[38;5;124mHealthy\u001b[39m\u001b[38;5;124m'\u001b[39m, \u001b[38;5;124m'\u001b[39m\u001b[38;5;124mUnderweight\u001b[39m\u001b[38;5;124m'\u001b[39m]\n",
      "\u001b[1;31mAssertionError\u001b[0m: "
     ]
    }
   ],
   "source": [
    "#Test cell-13 (3 points)\n",
    "#DO NOT MODIFY/DELETE THIS CELL\n",
    "assert bmis==35\n",
    "assert df['bmiCat'].value_counts()['Healthy']==1231\n",
    "assert list(df['bmiCat'].unique())==['Overweight', 'Healthy', 'Underweight']"
   ]
  },
  {
   "cell_type": "code",
   "execution_count": 85,
   "id": "51a96f64",
   "metadata": {
    "deletable": false,
    "editable": false,
    "nbgrader": {
     "cell_type": "code",
     "checksum": "55d81372657551435b4a796912ccaa0b",
     "grade": true,
     "grade_id": "14",
     "locked": true,
     "points": 2,
     "schema_version": 3,
     "solution": false,
     "task": false
    }
   },
   "outputs": [],
   "source": [
    "#Test cell-14 (2 points)\n",
    "#DO NOT MODIFY/DELETE THIS CELL"
   ]
  },
  {
   "cell_type": "markdown",
   "id": "bd5be034-8d09-4739-8969-7c66ea63cef9",
   "metadata": {
    "deletable": false,
    "editable": false,
    "nbgrader": {
     "cell_type": "markdown",
     "checksum": "3bf616cda590298042fdf16247d52e4f",
     "grade": false,
     "grade_id": "Q8",
     "locked": true,
     "schema_version": 3,
     "solution": false,
     "task": false
    }
   },
   "source": [
    "#### Q8. Attribute transformation -- handling select categorical columns\n",
    "\n",
    "We will continue to use the dataframe `df`. \n",
    "\n",
    "1. Consider the columns or features `work_type` and `Residence_type`. Perform one-hot encoding only on these two columns and save the resulting dataframe as `ndf`.\n",
    "\n",
    "2. Change the names of columns in `ndf` in the following manner:\n",
    "    - `work_type_Govt_job` --> `work1`\n",
    "    - `work_type_Never_worked` --> `work2`\n",
    "    - `work_type_Private` --> `work3`\n",
    "    - `work_type_Self-employed` --> `work4`\n",
    "    - `work_type_children` --> `work5`\n",
    "    - `Residence_type_Urban` --> `Urban`\n",
    "    - `Residence_type_Rural` --> `Rural`"
   ]
  },
  {
   "cell_type": "code",
   "execution_count": 86,
   "id": "a9a9850f-6880-40f9-8f23-024d0f3c1e95",
   "metadata": {
    "deletable": false,
    "nbgrader": {
     "cell_type": "code",
     "checksum": "3aec1cd66b545a3fd49283e1263b6140",
     "grade": false,
     "grade_id": "Q8-sol",
     "locked": false,
     "schema_version": 3,
     "solution": true,
     "task": false
    }
   },
   "outputs": [
    {
     "name": "stdout",
     "output_type": "stream",
     "text": [
      "   gender   age  hypertension  heart_disease ever_married  avg_glucose_level  \\\n",
      "0    Male  67.0             0              1          Yes             228.69   \n",
      "1    Male  80.0             0              1          Yes             105.92   \n",
      "2  Female  49.0             0              0          Yes             171.23   \n",
      "3  Female  79.0             1              0          Yes             174.12   \n",
      "4    Male  81.0             0              0          Yes             186.21   \n",
      "\n",
      "    bmi  smoking_status  stroke      bmiCat  work1  work2  work3  work4  \\\n",
      "0  36.6               1       1  Overweight  False  False   True  False   \n",
      "1  32.5               0       1  Overweight  False  False   True  False   \n",
      "2  34.4               1       1  Overweight  False  False   True  False   \n",
      "3  24.0               0       1     Healthy  False  False  False   True   \n",
      "4  29.0               1       1  Overweight  False  False   True  False   \n",
      "\n",
      "   work5  Rural  Urban  \n",
      "0  False  False   True  \n",
      "1  False   True  False  \n",
      "2  False  False   True  \n",
      "3  False   True  False  \n",
      "4  False  False   True  \n",
      "(4909, 17)\n"
     ]
    }
   ],
   "source": [
    "#Handling only the categorical columns work_type and Residence_type. \n",
    "\n",
    "# YOUR CODE HERE\n",
    "ndf = pd.get_dummies(df, columns=['work_type', 'Residence_type'])\n",
    "ndf.rename(columns={\n",
    "    'work_type_Govt_job': 'work1',\n",
    "    'work_type_Never_worked': 'work2',\n",
    "    'work_type_Private': 'work3',\n",
    "    'work_type_Self-employed': 'work4',\n",
    "    'work_type_children': 'work5',\n",
    "    'Residence_type_Urban': 'Urban',\n",
    "    'Residence_type_Rural': 'Rural'\n",
    "}, inplace=True)\n",
    "print(ndf.head())\n",
    "print(ndf.shape)"
   ]
  },
  {
   "cell_type": "code",
   "execution_count": 87,
   "id": "68432726-a7ff-4ea0-89b0-c6d24e3deb92",
   "metadata": {
    "deletable": false,
    "editable": false,
    "nbgrader": {
     "cell_type": "code",
     "checksum": "56da012a3b47b0eecff0251c28eb6206",
     "grade": true,
     "grade_id": "15",
     "locked": true,
     "points": 6,
     "schema_version": 3,
     "solution": false,
     "task": false
    }
   },
   "outputs": [],
   "source": [
    "#Test cell-15 (6 points)\n",
    "#DO NOT MODIFY/DELETE THIS CELL\n",
    "assert len(ndf.columns)==17\n",
    "assert ndf['stroke'].sum() == 209\n",
    "assert len(ndf) == 4909\n",
    "assert ndf['work1'].sum()==630"
   ]
  },
  {
   "cell_type": "code",
   "execution_count": 88,
   "id": "e8ba178b-b36d-42a2-9ad3-707a05d240ea",
   "metadata": {
    "deletable": false,
    "editable": false,
    "nbgrader": {
     "cell_type": "code",
     "checksum": "9c9761aff0912d29117ee842a6720e07",
     "grade": true,
     "grade_id": "16",
     "locked": true,
     "points": 4,
     "schema_version": 3,
     "solution": false,
     "task": false
    }
   },
   "outputs": [],
   "source": [
    "#Test cell-16 (4 points)\n",
    "#DO NOT MODIFY/DELETE THIS CELL"
   ]
  }
 ],
 "metadata": {
  "kernelspec": {
   "display_name": "Python 3 (ipykernel)",
   "language": "python",
   "name": "python3"
  },
  "language_info": {
   "codemirror_mode": {
    "name": "ipython",
    "version": 3
   },
   "file_extension": ".py",
   "mimetype": "text/x-python",
   "name": "python",
   "nbconvert_exporter": "python",
   "pygments_lexer": "ipython3",
   "version": "3.12.3"
  }
 },
 "nbformat": 4,
 "nbformat_minor": 5
}
