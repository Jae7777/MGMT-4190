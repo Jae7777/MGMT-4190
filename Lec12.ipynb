{
  "cells": [
    {
      "cell_type": "markdown",
      "metadata": {
        "id": "g06VPDo5wS4X"
      },
      "source": [
        "### Boston Housing Data\n",
        "\n",
        "- CRIM - per capita crime rate by town\n",
        "- ZN - proportion of residential land zoned for lots over 25,000 sq.ft.\n",
        "- INDUS - proportion of non-retail business acres per town.\n",
        "- CHAS - Charles River dummy variable (1 if tract bounds river; 0 otherwise)\n",
        "- NOX - nitric oxides concentration (parts per 10 million)\n",
        "- RM - average number of rooms per dwelling\n",
        "- AGE - proportion of owner-occupied units built prior to 1940\n",
        "- DIS - weighted distances to five Boston employment centres\n",
        "- RAD - index of accessibility to radial highways\n",
        "- TAX - full-value property-tax rate per \\$10,000\n",
        "- PTRATIO - pupil-teacher ratio by town\n",
        "- B - 1000(Bk - 0.63)^2 where Bk is the proportion of blacks by town\n",
        "- LSTAT - % lower status of the population\n",
        "- MEDV - Median value of owner-occupied homes in $1000's"
      ]
    },
    {
      "cell_type": "code",
      "execution_count": 59,
      "metadata": {
        "id": "khirKQyCwKut"
      },
      "outputs": [
        {
          "name": "stdout",
          "output_type": "stream",
          "text": [
            "<bound method NDFrame.head of         CRIM    ZN  INDUS  CHAS    NOX     RM   AGE     DIS  RAD  TAX  \\\n",
            "0    0.00632  18.0   2.31     0  0.538  6.575  65.2  4.0900    1  296   \n",
            "1    0.02731   0.0   7.07     0  0.469  6.421  78.9  4.9671    2  242   \n",
            "2    0.02729   0.0   7.07     0  0.469  7.185  61.1  4.9671    2  242   \n",
            "3    0.03237   0.0   2.18     0  0.458  6.998  45.8  6.0622    3  222   \n",
            "4    0.06905   0.0   2.18     0  0.458  7.147  54.2  6.0622    3  222   \n",
            "..       ...   ...    ...   ...    ...    ...   ...     ...  ...  ...   \n",
            "506  0.98765   0.0  12.50     0  0.561  6.980  89.0  2.0980    3  320   \n",
            "507  0.23456   0.0  12.50     0  0.561  6.980  76.0  2.6540    3  320   \n",
            "508  0.44433   0.0  12.50     0  0.561  6.123  98.0  2.9870    3  320   \n",
            "509  0.77763   0.0  12.70     0  0.561  6.222  34.0  2.5430    3  329   \n",
            "510  0.65432   0.0  12.80     0  0.561  6.760  67.0  2.9870    3  345   \n",
            "\n",
            "     PTRATIO       B  LSTAT  MEDV  \n",
            "0       15.3  396.90   4.98  24.0  \n",
            "1       17.8  396.90   9.14  21.6  \n",
            "2       17.8  392.83   4.03  34.7  \n",
            "3       18.7  394.63   2.94  33.4  \n",
            "4       18.7  396.90   5.33  36.2  \n",
            "..       ...     ...    ...   ...  \n",
            "506     23.0  396.00  12.00  12.0  \n",
            "507     23.0  343.00  25.00  32.0  \n",
            "508     23.0  343.00  21.00  54.0  \n",
            "509     23.0  343.00  76.00  67.0  \n",
            "510     23.0  321.00  45.00  24.0  \n",
            "\n",
            "[511 rows x 14 columns]>\n"
          ]
        }
      ],
      "source": [
        "#Lets read the file to a dataframe and print all the rows and columns\n",
        "import pandas as pd\n",
        "df = pd.read_csv('https://raw.githubusercontent.com/lmanikon/lmanikon.github.io/master/teaching/datasets/bostonHousing.csv')\n",
        "print(df.head)\n"
      ]
    },
    {
      "cell_type": "code",
      "execution_count": 60,
      "metadata": {
        "id": "FhscvDmTw0iM"
      },
      "outputs": [
        {
          "name": "stdout",
          "output_type": "stream",
          "text": [
            "(506, 14)\n"
          ]
        }
      ],
      "source": [
        "#drop rows with atleast one missing value\n",
        "df = df.dropna()\n",
        "print(df.shape)"
      ]
    },
    {
      "cell_type": "code",
      "execution_count": 61,
      "metadata": {
        "id": "fSx_X-WUwYi5"
      },
      "outputs": [],
      "source": [
        "#Split the data into X and y -- feature set and class label column respectively\n",
        "#MEDV is the target column\n",
        "X = df.drop(columns=['MEDV'])\n",
        "y = df['MEDV']\n",
        "\n"
      ]
    },
    {
      "cell_type": "code",
      "execution_count": 62,
      "metadata": {
        "id": "psKSlBITwgmN"
      },
      "outputs": [
        {
          "data": {
            "text/plain": [
              "array([[-0.420303  ,  0.28797489, -1.30024108, ..., -1.45389248,\n",
              "         0.44614055, -1.00982322],\n",
              "       [-0.41785992, -0.48448139, -0.60207324, ..., -0.31747751,\n",
              "         0.44614055, -0.47756756],\n",
              "       [-0.41786225, -0.48448139, -0.60207324, ..., -0.31747751,\n",
              "         0.40149536, -1.13137198],\n",
              "       ...,\n",
              "       [-0.36932193, -0.48448139,  0.19436613, ...,  2.04626563,\n",
              "        -0.1451065 ,  1.03987284],\n",
              "       [-0.33052832, -0.48448139,  0.22370091, ...,  2.04626563,\n",
              "        -0.1451065 ,  8.07690675],\n",
              "       [-0.34488067, -0.48448139,  0.2383683 , ...,  2.04626563,\n",
              "        -0.38643182,  4.11057855]])"
            ]
          },
          "execution_count": 62,
          "metadata": {},
          "output_type": "execute_result"
        }
      ],
      "source": [
        "#Standardize the dataset\n",
        "from sklearn.preprocessing import StandardScaler\n",
        "scaler = StandardScaler()\n",
        "X = scaler.fit_transform(X)\n",
        "X\n"
      ]
    },
    {
      "cell_type": "code",
      "execution_count": 63,
      "metadata": {
        "id": "I2X0SgwqwlZy"
      },
      "outputs": [
        {
          "data": {
            "text/html": [
              "<div>\n",
              "<style scoped>\n",
              "    .dataframe tbody tr th:only-of-type {\n",
              "        vertical-align: middle;\n",
              "    }\n",
              "\n",
              "    .dataframe tbody tr th {\n",
              "        vertical-align: top;\n",
              "    }\n",
              "\n",
              "    .dataframe thead th {\n",
              "        text-align: right;\n",
              "    }\n",
              "</style>\n",
              "<table border=\"1\" class=\"dataframe\">\n",
              "  <thead>\n",
              "    <tr style=\"text-align: right;\">\n",
              "      <th></th>\n",
              "      <th>principal component 1</th>\n",
              "      <th>principal component 2</th>\n",
              "    </tr>\n",
              "  </thead>\n",
              "  <tbody>\n",
              "    <tr>\n",
              "      <th>0</th>\n",
              "      <td>-2.076270</td>\n",
              "      <td>0.757225</td>\n",
              "    </tr>\n",
              "    <tr>\n",
              "      <th>1</th>\n",
              "      <td>-1.463351</td>\n",
              "      <td>0.594415</td>\n",
              "    </tr>\n",
              "    <tr>\n",
              "      <th>2</th>\n",
              "      <td>-2.046466</td>\n",
              "      <td>0.607857</td>\n",
              "    </tr>\n",
              "    <tr>\n",
              "      <th>3</th>\n",
              "      <td>-2.586053</td>\n",
              "      <td>0.009885</td>\n",
              "    </tr>\n",
              "    <tr>\n",
              "      <th>4</th>\n",
              "      <td>-2.446936</td>\n",
              "      <td>0.114024</td>\n",
              "    </tr>\n",
              "    <tr>\n",
              "      <th>...</th>\n",
              "      <td>...</td>\n",
              "      <td>...</td>\n",
              "    </tr>\n",
              "    <tr>\n",
              "      <th>501</th>\n",
              "      <td>0.318521</td>\n",
              "      <td>0.657941</td>\n",
              "    </tr>\n",
              "    <tr>\n",
              "      <th>502</th>\n",
              "      <td>0.666336</td>\n",
              "      <td>0.167241</td>\n",
              "    </tr>\n",
              "    <tr>\n",
              "      <th>503</th>\n",
              "      <td>0.946284</td>\n",
              "      <td>0.204977</td>\n",
              "    </tr>\n",
              "    <tr>\n",
              "      <th>504</th>\n",
              "      <td>2.353962</td>\n",
              "      <td>-1.026250</td>\n",
              "    </tr>\n",
              "    <tr>\n",
              "      <th>505</th>\n",
              "      <td>1.442817</td>\n",
              "      <td>-0.357219</td>\n",
              "    </tr>\n",
              "  </tbody>\n",
              "</table>\n",
              "<p>506 rows × 2 columns</p>\n",
              "</div>"
            ],
            "text/plain": [
              "     principal component 1  principal component 2\n",
              "0                -2.076270               0.757225\n",
              "1                -1.463351               0.594415\n",
              "2                -2.046466               0.607857\n",
              "3                -2.586053               0.009885\n",
              "4                -2.446936               0.114024\n",
              "..                     ...                    ...\n",
              "501               0.318521               0.657941\n",
              "502               0.666336               0.167241\n",
              "503               0.946284               0.204977\n",
              "504               2.353962              -1.026250\n",
              "505               1.442817              -0.357219\n",
              "\n",
              "[506 rows x 2 columns]"
            ]
          },
          "execution_count": 63,
          "metadata": {},
          "output_type": "execute_result"
        }
      ],
      "source": [
        "#Perform PCA\n",
        "\n",
        "from sklearn.decomposition import PCA\n",
        "\n",
        "pca = PCA(n_components=2)\n",
        "principalComponents = pca.fit_transform(X)\n",
        "principalDf = pd.DataFrame(data = principalComponents\n",
        "             , columns = ['principal component 1', 'principal component 2'])\n",
        "principalDf\n"
      ]
    },
    {
      "cell_type": "code",
      "execution_count": 64,
      "metadata": {
        "id": "5Z40fBOHxWeE"
      },
      "outputs": [],
      "source": [
        "from sklearn.model_selection import train_test_split\n",
        "\n",
        "X_train, X_test, y_train, y_test = train_test_split(principalDf, y, test_size=0.2)"
      ]
    },
    {
      "cell_type": "code",
      "execution_count": 65,
      "metadata": {},
      "outputs": [
        {
          "name": "stdout",
          "output_type": "stream",
          "text": [
            "28.467971098571404\n"
          ]
        }
      ],
      "source": [
        "# linear regression\n",
        "\n",
        "from sklearn.linear_model import LinearRegression\n",
        "from sklearn.metrics import mean_squared_error\n",
        "\n",
        "linR = LinearRegression().fit(X_train, y_train)\n",
        "\n",
        "y_pred = linR.predict(X_test)\n",
        "\n",
        "print(mean_squared_error(y_test, y_pred))"
      ]
    },
    {
      "cell_type": "code",
      "execution_count": null,
      "metadata": {},
      "outputs": [],
      "source": []
    }
  ],
  "metadata": {
    "colab": {
      "provenance": []
    },
    "kernelspec": {
      "display_name": "MGMT-4190",
      "language": "python",
      "name": "python3"
    },
    "language_info": {
      "codemirror_mode": {
        "name": "ipython",
        "version": 3
      },
      "file_extension": ".py",
      "mimetype": "text/x-python",
      "name": "python",
      "nbconvert_exporter": "python",
      "pygments_lexer": "ipython3",
      "version": "3.12.3"
    }
  },
  "nbformat": 4,
  "nbformat_minor": 0
}
