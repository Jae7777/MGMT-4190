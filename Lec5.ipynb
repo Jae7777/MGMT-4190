{
 "cells": [
  {
   "cell_type": "code",
   "execution_count": 2,
   "metadata": {},
   "outputs": [
    {
     "data": {
      "text/plain": [
       "array([1, 2, 3, 4, 5])"
      ]
     },
     "execution_count": 2,
     "metadata": {},
     "output_type": "execute_result"
    }
   ],
   "source": [
    "import numpy as np\n",
    "\n",
    "arr1 = np.array([1, 2, 3, 4, 5])\n",
    "arr1"
   ]
  },
  {
   "cell_type": "code",
   "execution_count": 5,
   "metadata": {},
   "outputs": [
    {
     "data": {
      "text/plain": [
       "array([[1, 2],\n",
       "       [3, 4]])"
      ]
     },
     "execution_count": 5,
     "metadata": {},
     "output_type": "execute_result"
    }
   ],
   "source": [
    "arr1 = np.array([[1, 2], [3, 4]])\n",
    "arr1"
   ]
  },
  {
   "cell_type": "code",
   "execution_count": 11,
   "metadata": {},
   "outputs": [
    {
     "name": "stdout",
     "output_type": "stream",
     "text": [
      "2\n",
      "2\n",
      "4\n"
     ]
    }
   ],
   "source": [
    "print(arr1[0][1])\n",
    "print(arr1[0, 1])\n",
    "print(arr1[1, 1])"
   ]
  },
  {
   "cell_type": "code",
   "execution_count": 21,
   "metadata": {},
   "outputs": [
    {
     "data": {
      "text/plain": [
       "array([[0., 0.],\n",
       "       [0., 0.],\n",
       "       [0., 0.]])"
      ]
     },
     "execution_count": 21,
     "metadata": {},
     "output_type": "execute_result"
    }
   ],
   "source": [
    "arr1 = np.zeros((3, 2))\n",
    "arr1"
   ]
  },
  {
   "cell_type": "code",
   "execution_count": 22,
   "metadata": {},
   "outputs": [
    {
     "data": {
      "text/plain": [
       "array([[0.39859043, 0.27192985, 0.12794838],\n",
       "       [0.12894553, 0.66977554, 0.95792037],\n",
       "       [0.26769529, 0.1414916 , 0.35308401]])"
      ]
     },
     "execution_count": 22,
     "metadata": {},
     "output_type": "execute_result"
    }
   ],
   "source": [
    "np.random.random((3, 3))"
   ]
  },
  {
   "cell_type": "code",
   "execution_count": 47,
   "metadata": {},
   "outputs": [
    {
     "name": "stdout",
     "output_type": "stream",
     "text": [
      "[[-1.  0.]\n",
      " [ 4.  6.]]\n",
      "[0. 6. 2. 3.]\n",
      "[[ 6  8]\n",
      " [10 12]]\n"
     ]
    }
   ],
   "source": [
    "# Numpy - Exercises\n",
    "# 1\n",
    "a = np.array([[-1, 2, 0, 4], [4, -0.5, 6, 0], [2.6, 0, 7, 8], [3, -7, 4, 2.0]])\n",
    "print(a[0:2, ::2])\n",
    "\n",
    "# 2\n",
    "# b = [[1, 1, 0, 3], [3, 2, 1, 0]]\n",
    "# for j in range(4):\n",
    "#   print(a[b[0][j], b[1][j]])\n",
    "print(a[[1, 1, 0, 3], [3, 2, 1, 0]])\n",
    "\n",
    "# 3\n",
    "a = np.array([[1, 2], [3, 4]])\n",
    "b = np.array([[5, 6], [7, 8]])\n",
    "print(np.add(a, b))\n"
   ]
  },
  {
   "cell_type": "code",
   "execution_count": 49,
   "metadata": {},
   "outputs": [
    {
     "name": "stdout",
     "output_type": "stream",
     "text": [
      "          0\n",
      "0   machine\n",
      "1  learning\n"
     ]
    }
   ],
   "source": [
    "import pandas as pd\n",
    "arr1 = np.array(['machine', 'learning'])\n",
    "\n",
    "df = pd.DataFrame(arr1)\n",
    "print(df)"
   ]
  },
  {
   "cell_type": "code",
   "execution_count": 52,
   "metadata": {},
   "outputs": [
    {
     "name": "stdout",
     "output_type": "stream",
     "text": [
      "     Level   GPA\n",
      "John    UG  4.00\n",
      "Amy     MS  3.90\n",
      "Rick    UG  3.56\n",
      "Sam     UG  4.00\n"
     ]
    }
   ],
   "source": [
    "d1 = {\n",
    "  \"John\": \"UG\",\n",
    "  \"Amy\": \"MS\",\n",
    "  \"Rick\": \"UG\",\n",
    "  \"Sam\": \"UG\",\n",
    "}\n",
    "\n",
    "d2 = {\n",
    "  \"John\": 4.0,\n",
    "  \"Amy\": 3.9,\n",
    "  \"Rick\": 3.56,\n",
    "  \"Sam\": 4.0,\n",
    "}\n",
    "\n",
    "data = {\"Level\": d1, 'GPA': d2}\n",
    "\n",
    "df = pd.DataFrame(data)\n",
    "print(df)"
   ]
  },
  {
   "cell_type": "code",
   "execution_count": 58,
   "metadata": {},
   "outputs": [
    {
     "name": "stdout",
     "output_type": "stream",
     "text": [
      "    d1   d2    d3\n",
      "1    1    1     1\n",
      "2    2    4     8\n",
      "3    3    9    27\n",
      "4    4   16    64\n",
      "5    5   25   125\n",
      "6    6   36   216\n",
      "7    7   49   343\n",
      "8    8   64   512\n",
      "9    9   81   729\n",
      "10  10  100  1000\n"
     ]
    }
   ],
   "source": [
    "d1 = {x: x for x in range(1, 11)}\n",
    "d2 = {x: x**2 for x in range(1, 11)}\n",
    "d3 = {x: x**3 for x in range(1, 11)}\n",
    "df = pd.DataFrame({\"d1\": d1, \"d2\": d2, \"d3\": d3})\n",
    "print(df)"
   ]
  },
  {
   "cell_type": "code",
   "execution_count": null,
   "metadata": {},
   "outputs": [],
   "source": []
  }
 ],
 "metadata": {
  "kernelspec": {
   "display_name": "MGMT-4190",
   "language": "python",
   "name": "python3"
  },
  "language_info": {
   "codemirror_mode": {
    "name": "ipython",
    "version": 3
   },
   "file_extension": ".py",
   "mimetype": "text/x-python",
   "name": "python",
   "nbconvert_exporter": "python",
   "pygments_lexer": "ipython3",
   "version": "3.12.4"
  }
 },
 "nbformat": 4,
 "nbformat_minor": 2
}
