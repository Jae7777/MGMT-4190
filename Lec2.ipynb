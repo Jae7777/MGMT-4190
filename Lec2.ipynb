{
 "cells": [
  {
   "cell_type": "code",
   "execution_count": 1,
   "metadata": {},
   "outputs": [
    {
     "name": "stdout",
     "output_type": "stream",
     "text": [
      "hello world\n"
     ]
    }
   ],
   "source": [
    "print('hello world')"
   ]
  },
  {
   "cell_type": "code",
   "execution_count": 3,
   "metadata": {},
   "outputs": [
    {
     "name": "stdout",
     "output_type": "stream",
     "text": [
      "[10, 20, 30, 40, 50]\n",
      "[10, 20, 30, 50]\n",
      "[10, 20, 30]\n",
      "[10, 20, 30, 40, 50]\n"
     ]
    }
   ],
   "source": [
    "# 1\n",
    "l1 = []\n",
    "l1.insert(0, 50)\n",
    "l1.insert(0, 40)\n",
    "l1.insert(0, 30)\n",
    "l1.insert(0, 20)\n",
    "l1.insert(0, 10)\n",
    "\n",
    "# 2\n",
    "print(l1)\n",
    "\n",
    "# 3\n",
    "l1.pop(3)\n",
    "print(l1)\n",
    "\n",
    "# 4 \n",
    "l1.pop()\n",
    "print(l1)\n",
    "\n",
    "# 5\n",
    "l2 = []\n",
    "l2.append(10)\n",
    "l2.append(20)\n",
    "l2.append(30)\n",
    "l2.append(40)\n",
    "l2.append(50)\n",
    "print(l2)"
   ]
  },
  {
   "cell_type": "code",
   "execution_count": 12,
   "metadata": {},
   "outputs": [
    {
     "name": "stdout",
     "output_type": "stream",
     "text": [
      "dict_keys([1, 2, 3, 4, 5])\n",
      "dict_values([2, 4, 6, 8, 10])\n",
      "{2: 1, 4: 2, 6: 3, 8: 4, 10: 5}\n",
      "{1: 2, 2: 4, 3: 6, 4: 8, 5: 10}\n"
     ]
    }
   ],
   "source": [
    "# 1\n",
    "d1 = {\n",
    "  1: 2,\n",
    "  2: 4,\n",
    "  3: 6,\n",
    "  4: 8,\n",
    "  5: 10\n",
    "}\n",
    "\n",
    "# 2\n",
    "print(d1.keys())\n",
    "print(d1.values())\n",
    "\n",
    "# 3\n",
    "d2 = dict(zip(d1.values(), d1.keys()))\n",
    "print(d2)\n",
    "d1 = dict(zip(d2.values(), d2.keys()))\n",
    "print(d1)\n"
   ]
  },
  {
   "cell_type": "code",
   "execution_count": 13,
   "metadata": {},
   "outputs": [
    {
     "name": "stdout",
     "output_type": "stream",
     "text": [
      "(1, 2, 3, 4)\n",
      "('I', 'Love', 'Machine', 'Learning')\n",
      "(1, 2, 3, 4, 'I', 'Love', 'Machine', 'Learning')\n"
     ]
    }
   ],
   "source": [
    "# 1\n",
    "t1 = (1, 2 , 3, 4)\n",
    "print(t1)\n",
    "\n",
    "# 2\n",
    "t2 = (\"I\", \"Love\", \"Machine\", \"Learning\")\n",
    "print(t2)\n",
    "\n",
    "# 3\n",
    "t3 = t1 + t2\n",
    "print(t3)\n"
   ]
  },
  {
   "cell_type": "code",
   "execution_count": 18,
   "metadata": {},
   "outputs": [
    {
     "name": "stdout",
     "output_type": "stream",
     "text": [
      "{'learning'}\n"
     ]
    }
   ],
   "source": [
    "s1 = \"learning\"\n",
    "set1 = set()\n",
    "set1.add(s1)\n",
    "print(set1)"
   ]
  },
  {
   "cell_type": "code",
   "execution_count": 22,
   "metadata": {},
   "outputs": [
    {
     "name": "stdout",
     "output_type": "stream",
     "text": [
      "product of 8 and 9: 72\n"
     ]
    }
   ],
   "source": [
    "i1 = int(input(\"Input 1: \"))\n",
    "i2 = int(input(\"Input 2: \"))\n",
    "print(f\"product of {i1} and {i2}: {i1 * i2}\")"
   ]
  },
  {
   "cell_type": "code",
   "execution_count": null,
   "metadata": {},
   "outputs": [],
   "source": []
  }
 ],
 "metadata": {
  "kernelspec": {
   "display_name": "MGMT-4190",
   "language": "python",
   "name": "python3"
  },
  "language_info": {
   "codemirror_mode": {
    "name": "ipython",
    "version": 3
   },
   "file_extension": ".py",
   "mimetype": "text/x-python",
   "name": "python",
   "nbconvert_exporter": "python",
   "pygments_lexer": "ipython3",
   "version": "3.12.3"
  }
 },
 "nbformat": 4,
 "nbformat_minor": 2
}
